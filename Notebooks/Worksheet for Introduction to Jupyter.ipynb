{
 "cells": [
  {
   "cell_type": "markdown",
   "metadata": {},
   "source": [
    "# Let's get more familiar with Jupyter! \n",
    "\n",
    "Let's first try to print the string \"Hello World\" using the print statement.\n",
    "Copy this to the code cell:\n",
    "```\n",
    "print(\"Hello World\")\n",
    "```\n"
   ]
  },
  {
   "cell_type": "code",
   "execution_count": null,
   "metadata": {
    "collapsed": true
   },
   "outputs": [],
   "source": []
  },
  {
   "cell_type": "markdown",
   "metadata": {},
   "source": [
    "## Run the program\n",
    "\n",
    "1. Select the cell, and hit **Ctrl+Enter** to run the program.\n",
    "2. **Or** you can click **Cell** then click **Run Cell** .\n",
    "\n",
    "### Don't forget to save your program! There are two ways to do this, you can either:\n",
    "\n",
    "1. Hit **Ctrl+S**\n",
    "2. **Or** click **File** then click **Save and Checkpoint** \n",
    "\n",
    "### *Make sure you run and save the program before you move on!*"
   ]
  },
  {
   "cell_type": "markdown",
   "metadata": {},
   "source": [
    "## Now let's declare some variables!   \n",
    "We will declare x as 3 and y as 5.2 and print them.\n",
    "\n",
    "    x=3\n",
    "    y=5.2\n",
    "    print(x)\n",
    "    print(y)\n",
    "\n",
    "Type these in, and check out the output!"
   ]
  },
  {
   "cell_type": "code",
   "execution_count": null,
   "metadata": {
    "collapsed": true
   },
   "outputs": [],
   "source": []
  },
  {
   "cell_type": "markdown",
   "metadata": {},
   "source": [
    "After you run the program above,\n",
    "1. Let's change x to be 4 and y to be x.\n",
    "       x = 4\n",
    "       y = x\n",
    "    \n",
    "2. Copy and run the print statements again. \n",
    "       print(x)\n",
    "       print(y)\n",
    "\n",
    "Did the result change? Did you expect the change?"
   ]
  },
  {
   "cell_type": "code",
   "execution_count": null,
   "metadata": {
    "collapsed": true
   },
   "outputs": [],
   "source": []
  },
  {
   "cell_type": "markdown",
   "metadata": {},
   "source": [
    "Write your answers here:"
   ]
  },
  {
   "cell_type": "markdown",
   "metadata": {},
   "source": [
    "Lastly:\n",
    "3. Set y=\"x\" with the following command\n",
    "       y = \"x\"\n",
    "4. Copy and run the print statements. Did the result surprise you?"
   ]
  },
  {
   "cell_type": "code",
   "execution_count": null,
   "metadata": {
    "collapsed": true
   },
   "outputs": [],
   "source": []
  },
  {
   "cell_type": "markdown",
   "metadata": {},
   "source": [
    "Write your answers here:"
   ]
  },
  {
   "cell_type": "markdown",
   "metadata": {},
   "source": [
    "## More practice with the print statement!\n",
    "Let's copy the following code and run it to see what the outputs are:\n",
    "\n",
    "```\n",
    "x = 4\n",
    "print (x)\n",
    "print (\"Hello World\")\n",
    "print (\"x=\", x)\n",
    "```"
   ]
  },
  {
   "cell_type": "code",
   "execution_count": null,
   "metadata": {
    "collapsed": true
   },
   "outputs": [],
   "source": []
  },
  {
   "cell_type": "markdown",
   "metadata": {},
   "source": [
    "**How can you get `\"x= hello world\"` as an output, while still using `print(\"x=\",x)` as part of your code?**\n"
   ]
  },
  {
   "cell_type": "code",
   "execution_count": null,
   "metadata": {
    "collapsed": true
   },
   "outputs": [],
   "source": []
  },
  {
   "cell_type": "markdown",
   "metadata": {},
   "source": [
    "# Math Operations \n",
    "- In order to add: +\n",
    "- In order to subtract: -\n",
    "- In order to multiply: *\n",
    "- In order to divide: /\n",
    "- (   ) help the computers know that it have to calculate some numbers first \n",
    "  - For example if I want to add first then multiply, it will be 5*(4+5)\n",
    "  \n",
    "**Don't forget the order of operations P E M/D A/S**\n",
    "\n",
    "Let's type some math questions and see what the answers are!\n",
    "1. `8+30`\n",
    "2. `48*0.8`\n",
    "3. `108-2.09`\n",
    "4. `94+3781-(4+47)*12.1`\n",
    "5. `0.098/3+87`\n"
   ]
  },
  {
   "cell_type": "code",
   "execution_count": null,
   "metadata": {
    "collapsed": true
   },
   "outputs": [],
   "source": []
  },
  {
   "cell_type": "markdown",
   "metadata": {},
   "source": [
    "# What if we want to print something from the keyboard?\n",
    "Well, that's where user input comes in!\n",
    "\n",
    "Copy the following program into the code cell, and follow the given instruction. \n",
    "\n",
    "    name=input (\"Enter your name: \")\n",
    "    print ('Hello',name,'!')"
   ]
  },
  {
   "cell_type": "code",
   "execution_count": null,
   "metadata": {
    "collapsed": true
   },
   "outputs": [],
   "source": []
  },
  {
   "cell_type": "markdown",
   "metadata": {},
   "source": [
    "### Answer the following questions:\n",
    "1. The variables must be separated by:\n",
    "2. How is the print statement in this code different from all the print statements we've been writing?"
   ]
  },
  {
   "cell_type": "markdown",
   "metadata": {},
   "source": [
    "Write your answers here:\n",
    "1. \n",
    "2. "
   ]
  },
  {
   "cell_type": "markdown",
   "metadata": {},
   "source": [
    "### What if I want to know users' age instead of their names?\n",
    "What changes need to be made?"
   ]
  },
  {
   "cell_type": "code",
   "execution_count": null,
   "metadata": {
    "collapsed": true
   },
   "outputs": [],
   "source": [
    "# Change the code so it ask for user's age\n",
    "name=input (\"Enter your name: \")\n",
    "print ('Hello',name,'!')"
   ]
  },
  {
   "cell_type": "markdown",
   "metadata": {},
   "source": [
    "### Write a code that asks for both the user's age and name, then prints both of them"
   ]
  },
  {
   "cell_type": "code",
   "execution_count": null,
   "metadata": {
    "collapsed": true
   },
   "outputs": [],
   "source": []
  },
  {
   "cell_type": "markdown",
   "metadata": {},
   "source": [
    "### Now it's your turn! \n",
    "1. Write a program that asks the user to input the hour of the day.\n",
    "2. Print the statement: \"It is (user input here) right now!\" <br>\n",
    "When you are declaring a varible for the hour of the day, make sure it have to be short but clear!"
   ]
  },
  {
   "cell_type": "code",
   "execution_count": null,
   "metadata": {
    "collapsed": true
   },
   "outputs": [],
   "source": []
  },
  {
   "cell_type": "markdown",
   "metadata": {},
   "source": [
    "# Conditionals \n",
    "We learned about conditionals yetsterday. We know how they relate to our daily lives and why they are one of the most important concepts of Computer Science.\n",
    "\n",
    "Now we will learn how to write a conditional in the Python syntax!\n",
    "\n",
    "Copy the following into your code cell:\n",
    "\n",
    "    age_part1=input(\"What is your age? \")\n",
    "    age_part2=input(\"What is your partner's age? \")\n",
    "    if age_part1 > age_part2:\n",
    "        print(\"You are older than your partner!\")\n",
    "    else:\n",
    "        print(\"Your partner is older than you!\")\n"
   ]
  },
  {
   "cell_type": "code",
   "execution_count": null,
   "metadata": {
    "collapsed": true
   },
   "outputs": [],
   "source": []
  },
  {
   "cell_type": "markdown",
   "metadata": {},
   "source": [
    "## Debugging\n",
    "\n",
    "**I want to write a program that ask for the name of the user. If the user's name is Yesheng, then the program will print: \"The original programmer has the same name!\" Otherwise, it will print: \"Nice name!\" **\n",
    "\n",
    "Here is the program that I have:\n",
    "\n",
    "```\n",
    "user_name=input(\"What is your name?\")\n",
    "if user_name==\"Yesheng\":\n",
    "print(\"The original programmer has the same name!\")\n",
    "else\n",
    "print(\"Nice name!\")\n",
    "```\n",
    "\n",
    "**What is wrong with the code above? There are two mistakes!**\n",
    "\n",
    "**Fix the mistakes and run the program**"
   ]
  },
  {
   "cell_type": "code",
   "execution_count": null,
   "metadata": {
    "collapsed": true
   },
   "outputs": [],
   "source": [
    "# Fix the code!!!!\n",
    "user_name=input(\"What is your name?\")\n",
    "if user_name==\"Yesheng\":\n",
    "print(\"The original programmer has the same name!\")\n",
    "else \n",
    "print(\"Nice name!\")"
   ]
  },
  {
   "cell_type": "markdown",
   "metadata": {},
   "source": [
    "### Your turn! Write a little program that asks for the user's favorite snack!\n",
    "1. Declare a variable **snack**, and set it to ask for a user input\n",
    "2. If the user enters \"cookies\" for their favorite snack then print: \"Here is a cookie.\" \n",
    "3. Otherwise print: \"Why don't you want a cookie? Cookies are the best!\""
   ]
  },
  {
   "cell_type": "code",
   "execution_count": null,
   "metadata": {
    "collapsed": true
   },
   "outputs": [],
   "source": []
  }
 ],
 "metadata": {
  "kernelspec": {
   "display_name": "Python 3",
   "language": "python",
   "name": "python3"
  },
  "language_info": {
   "codemirror_mode": {
    "name": "ipython",
    "version": 3
   },
   "file_extension": ".py",
   "mimetype": "text/x-python",
   "name": "python",
   "nbconvert_exporter": "python",
   "pygments_lexer": "ipython3",
   "version": "3.5.2"
  }
 },
 "nbformat": 4,
 "nbformat_minor": 2
}
