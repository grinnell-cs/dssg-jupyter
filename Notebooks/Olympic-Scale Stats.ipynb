{
 "cells": [
  {
   "cell_type": "markdown",
   "metadata": {},
   "source": [
    "# Olympic-size statistics\n",
    "We've been using \"categorical\" data, like countries.  What if we want to work with numeric data?  And, well, what if we like columns, more than rows?  In this worksheet, we'll look at data from the 2014 Solchi Olympics."
   ]
  },
  {
   "cell_type": "markdown",
   "metadata": {},
   "source": [
    "We'll start with pandas.  *You'll get used to putting this command at the top of every notebook.*"
   ]
  },
  {
   "cell_type": "code",
   "execution_count": null,
   "metadata": {
    "collapsed": true
   },
   "outputs": [],
   "source": [
    "import pandas as pd"
   ]
  },
  {
   "cell_type": "markdown",
   "metadata": {},
   "source": [
    "Now, let's add the list of countries."
   ]
  },
  {
   "cell_type": "code",
   "execution_count": null,
   "metadata": {
    "collapsed": true,
    "scrolled": true
   },
   "outputs": [],
   "source": [
    "countries = ['Russian Fed.', 'Norway', 'Canada', 'United States',\n",
    "             'Netherlands', 'Germany', 'Switzerland', 'Belarus',\n",
    "             'Austria', 'France', 'Poland', 'China', 'Korea', \n",
    "             'Sweden', 'Czech Republic', 'Slovenia', 'Japan',\n",
    "             'Finland', 'Great Britain', 'Ukraine', 'Slovakia',\n",
    "             'Italy', 'Latvia', 'Australia', 'Croatia', 'Kazakhstan']\n",
    "countries"
   ]
  },
  {
   "cell_type": "markdown",
   "metadata": {},
   "source": [
    "Now, let's get the lists of medal counts for those countries in the 2014 Solchi Winter Olympics.  (*Aren't you glad you didn't have to type those in?*)"
   ]
  },
  {
   "cell_type": "code",
   "execution_count": null,
   "metadata": {
    "collapsed": true
   },
   "outputs": [],
   "source": [
    "gold = [13, 11, 10, 9, 8, 8, 6, 5, 4, 4, 4, 3, 3, 2, 2, 2, 1, 1, 1, 1, 1, 0, 0, 0, 0, 0]\n",
    "silver = [11, 5, 10, 7, 7, 6, 3, 0, 8, 4, 1, 4, 3, 7, 4, 2, 4, 3, 1, 0, 0, 2, 2, 2, 1, 0]\n",
    "bronze = [9, 10, 5, 12, 9, 5, 2, 1, 5, 7, 1, 2, 2, 6, 2, 4, 3, 1, 2, 1, 0, 6, 2, 1, 0, 1]"
   ]
  },
  {
   "cell_type": "markdown",
   "metadata": {},
   "source": [
    "Finally, we'll put them into a data frame.  Try the next few lines to see if they work."
   ]
  },
  {
   "cell_type": "code",
   "execution_count": null,
   "metadata": {
    "collapsed": true
   },
   "outputs": [],
   "source": [
    "olympic_medal_counts = pd.DataFrame(data = {\"country\":countries,\n",
    "                                        \"gold\":gold,\n",
    "                                        \"silver\":silver,\n",
    "                                        \"bronze\":bronze})"
   ]
  },
  {
   "cell_type": "code",
   "execution_count": null,
   "metadata": {
    "collapsed": true
   },
   "outputs": [],
   "source": [
    "olympic_medal_counts"
   ]
  },
  {
   "cell_type": "markdown",
   "metadata": {},
   "source": [
    "Do you notice anything strange about the table you just generated?  What is it?"
   ]
  },
  {
   "cell_type": "markdown",
   "metadata": {},
   "source": [
    "## Arranging columns\n",
    "From my perspective, the columns are in the wrong order.  Do you know how to fix that issue?  Think back to our previous worksheet and update the command so that you put the country first, then the number of gold medals, then brone, then silver.\n"
   ]
  },
  {
   "cell_type": "code",
   "execution_count": null,
   "metadata": {
    "collapsed": true
   },
   "outputs": [],
   "source": [
    "olympic_medal_counts = pd.DataFrame(data = {\"country\":countries,\n",
    "                                        \"gold\":gold,\n",
    "                                        \"silver\":silver,\n",
    "                                        \"bronze\":bronze})\n",
    "olympic_medal_counts"
   ]
  },
  {
   "cell_type": "markdown",
   "metadata": {},
   "source": [
    "You can also arrange the columns by building a new data frame from the old one.  Just as you can use `olympic_medal_counts[\"gold\"]` to get just the column of gold medals, you can use `olympic_medal_counts[[\"country\",\"gold\"]]` to get two columns.  (*Note that we've added square braces to make a list of column names.*)"
   ]
  },
  {
   "cell_type": "code",
   "execution_count": null,
   "metadata": {
    "collapsed": true
   },
   "outputs": [],
   "source": [
    "olympic_medal_counts[[\"country\",\"gold\"]]"
   ]
  },
  {
   "cell_type": "markdown",
   "metadata": {},
   "source": [
    "## Computing statistics\n",
    "Unlike the panda data set, which was mostly textual data, our Olympic data set contains lots of numeric data.  That means we can start to compute some statistics."
   ]
  },
  {
   "cell_type": "markdown",
   "metadata": {},
   "source": [
    "### Average number of medals\n",
    "What's the average number of gold medals?  As you may recall, we could add up all of the values and then divide by the total number of values.  Can you remember how to do those two things with lists?"
   ]
  },
  {
   "cell_type": "code",
   "execution_count": null,
   "metadata": {
    "collapsed": true
   },
   "outputs": [],
   "source": [
    "gold_medals = olympic_medal_counts[\"gold\"]"
   ]
  },
  {
   "cell_type": "markdown",
   "metadata": {},
   "source": [
    "When you've figured out a solution, grab a counselor and show them!  And if you can't figure out a solution, that's okay, too.  Grab a counselor and ask for help!"
   ]
  },
  {
   "cell_type": "markdown",
   "metadata": {},
   "source": [
    "### Medal statistics, revisited\n",
    "You may have written something like the following to compute the average number of gold medals.\n",
    "```\n",
    "sum = 0\n",
    "for x in gold_medals:\n",
    "    sum = sum + x\n",
    "print(sum/len(gold_medals))\n",
    "```\n",
    "But that's a lot of work.  Fortunately, `pandas` lets you call lots of functions on colums, including `mean`.  Try the following. "
   ]
  },
  {
   "cell_type": "code",
   "execution_count": null,
   "metadata": {
    "collapsed": true
   },
   "outputs": [],
   "source": [
    "gold_medals.mean()"
   ]
  },
  {
   "cell_type": "markdown",
   "metadata": {},
   "source": [
    "Did you get the same answer (or about the same answer)?  We hope so.\n",
    "\n",
    "Next, use commands to determine the median, mode, min, and max of the numbers of gold medals."
   ]
  },
  {
   "cell_type": "code",
   "execution_count": null,
   "metadata": {
    "collapsed": true
   },
   "outputs": [],
   "source": []
  },
  {
   "cell_type": "markdown",
   "metadata": {},
   "source": [
    "Are you puzzled by the answer for the mode?  If so, try the following for more information.  (Remember that `value_counts` tells you how many times each value appears.)"
   ]
  },
  {
   "cell_type": "code",
   "execution_count": null,
   "metadata": {
    "collapsed": true
   },
   "outputs": [],
   "source": [
    "gold_medals.value_counts()"
   ]
  },
  {
   "cell_type": "markdown",
   "metadata": {},
   "source": [
    "## Selecting rows\n",
    "Remember how we were able to select just the giant pandas in China with\n",
    "\n",
    "```\n",
    "giant_pandas.loc[giant_pandas[\"country\"] == \"China\"]\n",
    "```\n",
    "\n",
    "You can use things other than `==` in the selection.\n",
    "\n",
    "See if you can figure out how to select the countries that got more than the average number of gold medals (3.8).  You'll want to use a command something like the following.\n",
    "\n",
    "```\n",
    "olympic_medal_counts[olympic_medal_counts[???] ?? 3.8]\n",
    "```"
   ]
  },
  {
   "cell_type": "code",
   "execution_count": null,
   "metadata": {
    "collapsed": true
   },
   "outputs": [],
   "source": []
  },
  {
   "cell_type": "markdown",
   "metadata": {},
   "source": [
    "You can figure out how many countries got at least that many gold medals using `len`.\n",
    "```\n",
    "len(olympic_medal_counts[olympic_medal_counts[???] ?? 3.8])\n",
    "```"
   ]
  },
  {
   "cell_type": "code",
   "execution_count": null,
   "metadata": {
    "collapsed": true
   },
   "outputs": [],
   "source": []
  },
  {
   "cell_type": "markdown",
   "metadata": {},
   "source": [
    "## Practice\n",
    "Repeat the previous exercise for silver medals and bronze medals."
   ]
  },
  {
   "cell_type": "code",
   "execution_count": null,
   "metadata": {
    "collapsed": true
   },
   "outputs": [],
   "source": []
  },
  {
   "cell_type": "markdown",
   "metadata": {},
   "source": [
    "## Exploration\n",
    "See what else you can discover about this data set.  For example,\n",
    "* What countries had more than the average number of gold, silver, and bronze medals?\n",
    "* What is the average number of bronze medals for countries with lots of gold medals?  For countries with few gold medals?\n",
    "* What countries had more silver medals than gold medals?"
   ]
  },
  {
   "cell_type": "code",
   "execution_count": null,
   "metadata": {
    "collapsed": true
   },
   "outputs": [],
   "source": []
  }
 ],
 "metadata": {
  "kernelspec": {
   "display_name": "Python 3",
   "language": "python",
   "name": "python3"
  },
  "language_info": {
   "codemirror_mode": {
    "name": "ipython",
    "version": 3
   },
   "file_extension": ".py",
   "mimetype": "text/x-python",
   "name": "python",
   "nbconvert_exporter": "python",
   "pygments_lexer": "ipython3",
   "version": "3.5.2"
  }
 },
 "nbformat": 4,
 "nbformat_minor": 2
}
