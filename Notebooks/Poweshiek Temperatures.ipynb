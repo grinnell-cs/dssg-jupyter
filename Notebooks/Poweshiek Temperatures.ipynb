{
 "cells": [
  {
   "cell_type": "markdown",
   "metadata": {},
   "source": [
    "# How hot is it in Iowa (or at least in Poweskiek county)?\n",
    "In this workseet, we'll be exploring historical temperature data from Powesheik County, Iowa.  There's a lot of data, so we'd rather read it from a file.  Fortunately, we were able to download a file with those data."
   ]
  },
  {
   "cell_type": "markdown",
   "metadata": {},
   "source": [
    "## Getting started\n",
    "You should know the drill by now.  We're adding an extra line in case we need to do some additional statistical processing."
   ]
  },
  {
   "cell_type": "code",
   "execution_count": null,
   "metadata": {
    "collapsed": true
   },
   "outputs": [],
   "source": [
    "import pandas as pd\n",
    "import statistics as st"
   ]
  },
  {
   "cell_type": "markdown",
   "metadata": {},
   "source": [
    "## Reading data\n",
    "The first step in reading data is often to name the file from which we will read the data."
   ]
  },
  {
   "cell_type": "code",
   "execution_count": null,
   "metadata": {
    "collapsed": true
   },
   "outputs": [],
   "source": [
    "filename = \"../Data/PoweshiekTemperatureHist.csv\""
   ]
  },
  {
   "cell_type": "markdown",
   "metadata": {},
   "source": [
    "Now on to the important part.  We need to read the data into a data frame.  Do you remember how to do so?  Fill in the instructions below.  Then query Python for the contents of the data\n",
    "frame to see what the table looks like."
   ]
  },
  {
   "cell_type": "code",
   "execution_count": null,
   "metadata": {},
   "outputs": [],
   "source": [
    "#Read data from the file\n",
    "temperatures = "
   ]
  },
  {
   "cell_type": "code",
   "execution_count": null,
   "metadata": {},
   "outputs": [],
   "source": [
    "temperatures"
   ]
  },
  {
   "cell_type": "markdown",
   "metadata": {},
   "source": [
    "We can also print out the temperatures using the `print` command.  Try the next line."
   ]
  },
  {
   "cell_type": "code",
   "execution_count": null,
   "metadata": {},
   "outputs": [],
   "source": [
    "print(temperatures)"
   ]
  },
  {
   "cell_type": "markdown",
   "metadata": {},
   "source": [
    "**Questions:** What do you think the columns stand for?  Do the data seem reasonable?  Be ready to talk to a counselor."
   ]
  },
  {
   "cell_type": "markdown",
   "metadata": {},
   "source": [
    "## Median madness\n",
    "The `'median'` column gives the median land temperature for each year.  Let's find some information about those temperatures."
   ]
  },
  {
   "cell_type": "code",
   "execution_count": null,
   "metadata": {},
   "outputs": [],
   "source": [
    "print(\"Mean of medians:\", temperatures['median'].mean())"
   ]
  },
  {
   "cell_type": "code",
   "execution_count": null,
   "metadata": {},
   "outputs": [],
   "source": [
    "print(\"Median of medians:\", temperatures['median'].median())"
   ]
  },
  {
   "cell_type": "markdown",
   "metadata": {},
   "source": [
    "**Questions:** What does it mean to have a mean of medians?  A median of medians?\n",
    "\n",
    "**Questions:** How do the two relate to each other in this case?"
   ]
  },
  {
   "cell_type": "code",
   "execution_count": null,
   "metadata": {},
   "outputs": [],
   "source": [
    "print(\"Mode of medians:\")\n",
    "print(temperatures['median'].mode())"
   ]
  },
  {
   "cell_type": "markdown",
   "metadata": {},
   "source": [
    "That's a strange output, isn't it?  \n",
    "\n",
    "**Question:** Can you tell what it means?\n",
    "\n",
    "Let's see if we can figure out why we got that output."
   ]
  },
  {
   "cell_type": "code",
   "execution_count": null,
   "metadata": {},
   "outputs": [],
   "source": [
    "temperatures[\"median\"].value_counts()"
   ]
  },
  {
   "cell_type": "markdown",
   "metadata": {},
   "source": [
    "Does that help you understand the output?"
   ]
  },
  {
   "cell_type": "markdown",
   "metadata": {},
   "source": [
    "### More median madness\n",
    "What's the lowest median temperature in the data set?  The highest median?  *Fill in code below.*"
   ]
  },
  {
   "cell_type": "code",
   "execution_count": null,
   "metadata": {},
   "outputs": [],
   "source": [
    "min_of_medians = \n",
    "max_of_medians ="
   ]
  },
  {
   "cell_type": "markdown",
   "metadata": {},
   "source": [
    "How do you figure out which year had the lowest median?  The highest?  *Fill in code below.*"
   ]
  },
  {
   "cell_type": "code",
   "execution_count": null,
   "metadata": {
    "collapsed": true
   },
   "outputs": [],
   "source": []
  },
  {
   "cell_type": "markdown",
   "metadata": {},
   "source": [
    "## Extremes!\n",
    "Let's explore some other of the data in the data set."
   ]
  },
  {
   "cell_type": "markdown",
   "metadata": {},
   "source": [
    "Write instrucdtions the lowest and highest temperatures available in the data set."
   ]
  },
  {
   "cell_type": "code",
   "execution_count": null,
   "metadata": {
    "collapsed": true
   },
   "outputs": [],
   "source": []
  },
  {
   "cell_type": "markdown",
   "metadata": {},
   "source": [
    "The `p` in `p10` and `p90` stands for \"percentile\".  p10 is the number that exceeds 10% of the observations that year.  p90 is the number that exceeds 90% of the observations that year.  \n",
    "\n",
    "**Question:** Why would the scientists who built this data set include these columns?"
   ]
  },
  {
   "cell_type": "code",
   "execution_count": null,
   "metadata": {
    "collapsed": true
   },
   "outputs": [],
   "source": []
  },
  {
   "cell_type": "markdown",
   "metadata": {},
   "source": [
    "## Looking at certain decades\n",
    "How would you calculate the minimum and maximum temperatures of Poweshiek from 1950 to 1959 and from 1996 to 2005?"
   ]
  },
  {
   "cell_type": "code",
   "execution_count": null,
   "metadata": {
    "collapsed": true
   },
   "outputs": [],
   "source": []
  },
  {
   "cell_type": "markdown",
   "metadata": {},
   "source": [
    "How would you calculate the average 10th percentile and 90th percentile for those two decades?"
   ]
  },
  {
   "cell_type": "code",
   "execution_count": null,
   "metadata": {
    "collapsed": true
   },
   "outputs": [],
   "source": []
  },
  {
   "cell_type": "markdown",
   "metadata": {},
   "source": [
    "What, if anything, do these computations tell you?"
   ]
  },
  {
   "cell_type": "markdown",
   "metadata": {},
   "source": [
    "## Combining columns\n",
    "We've seen five \"m\"s.  Let's add one more.  Let's say that the \"memima\" of a list of numbers is the average (mean) of the minimum and maximum.  It's easy if we already have the min and max."
   ]
  },
  {
   "cell_type": "code",
   "execution_count": null,
   "metadata": {},
   "outputs": [],
   "source": [
    "minimum = 2\n",
    "maximum = 7\n",
    "memima = (minimum + maximum)/2\n",
    "memima"
   ]
  },
  {
   "cell_type": "markdown",
   "metadata": {},
   "source": [
    "But what if we want to do this computation for a whole table?  It turns out that dataframes make this easy.  Grab the `\"min\"` column and the `\"max\"` column from `temperatures`.  Add them together, and divide by two.  What do you get?"
   ]
  },
  {
   "cell_type": "code",
   "execution_count": null,
   "metadata": {
    "collapsed": true
   },
   "outputs": [],
   "source": []
  },
  {
   "cell_type": "markdown",
   "metadata": {},
   "source": [
    "And, rather than recomputing that each time, we can add it to our table.  Try the following command to see what happens."
   ]
  },
  {
   "cell_type": "code",
   "execution_count": null,
   "metadata": {},
   "outputs": [],
   "source": [
    "temperatures[\"memima\"] = (temperatures[\"min\"] + temperatures[\"max\"])/2\n",
    "temperatures"
   ]
  },
  {
   "cell_type": "markdown",
   "metadata": {},
   "source": [
    "**Question:** How does the memima relate to the median?  Is the memima a useful number?"
   ]
  },
  {
   "cell_type": "markdown",
   "metadata": {},
   "source": [
    "**Problem**: Add a column to the table called \"meep\" that contains the mean of the 10th percentile and the 90th percentile."
   ]
  },
  {
   "cell_type": "code",
   "execution_count": null,
   "metadata": {
    "collapsed": true
   },
   "outputs": [],
   "source": []
  },
  {
   "cell_type": "markdown",
   "metadata": {},
   "source": [
    "## More analysis\n",
    "Explore 'MMMMM' with different rows and columns, or a specific time period. What else can you find in the dataset?"
   ]
  },
  {
   "cell_type": "code",
   "execution_count": null,
   "metadata": {
    "collapsed": true
   },
   "outputs": [],
   "source": []
  }
 ],
 "metadata": {
  "kernelspec": {
   "display_name": "Python 3",
   "language": "python",
   "name": "python3"
  },
  "language_info": {
   "codemirror_mode": {
    "name": "ipython",
    "version": 3
   },
   "file_extension": ".py",
   "mimetype": "text/x-python",
   "name": "python",
   "nbconvert_exporter": "python",
   "pygments_lexer": "ipython3",
   "version": "3.5.2"
  }
 },
 "nbformat": 4,
 "nbformat_minor": 2
}
