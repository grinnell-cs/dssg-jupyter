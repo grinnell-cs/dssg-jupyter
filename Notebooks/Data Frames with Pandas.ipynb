{
 "cells": [
  {
   "cell_type": "markdown",
   "metadata": {},
   "source": [
    "# Exploring Pandas with `pandas`\n",
    "\n",
    "`pandas` is a Python library for working with data in tables.  \"pandas\" stands for \"**pan**el **da**ta\", with \"panel\" being a name data scientists use for tables.  Plus, pandas are cute (although they can be nasty).\n",
    "\n",
    "In this worksheet, we'll learn how to use `pandas` to build and explore tables."
   ]
  },
  {
   "cell_type": "markdown",
   "metadata": {},
   "source": [
    "## Getting started\n",
    "\n",
    "We normally tell Python to use `pandas` with the following command.  (The `as pd` says that we can refer to `pandas` with just `pd`.  That's a way to save typing.)"
   ]
  },
  {
   "cell_type": "code",
   "execution_count": null,
   "metadata": {
    "collapsed": true
   },
   "outputs": [],
   "source": [
    "import pandas as pd"
   ]
  },
  {
   "cell_type": "markdown",
   "metadata": {},
   "source": [
    "## Building a row of data\n",
    "If we're building a table by hand, it's sometimes easiest to name each row.  Here's information on a famous giant panda."
   ]
  },
  {
   "cell_type": "code",
   "execution_count": null,
   "metadata": {},
   "outputs": [],
   "source": [
    "baiyun = { \"name\": \"Bai Yun\", \"sex\": \"Female\", \"age\": 26, \"home\": \"San Diego Zoo\", \"country\": \"U.S\"}"
   ]
  },
  {
   "cell_type": "markdown",
   "metadata": {},
   "source": [
    "Let's see what this row looks like."
   ]
  },
  {
   "cell_type": "code",
   "execution_count": null,
   "metadata": {},
   "outputs": [],
   "source": [
    "baiyun"
   ]
  },
  {
   "cell_type": "markdown",
   "metadata": {},
   "source": [
    "If you had to explain to someone how to enter data for a row, what would you say?  \n",
    "*Write notes in your notebook and be prepared to tell a counselor.*"
   ]
  },
  {
   "cell_type": "markdown",
   "metadata": {},
   "source": [
    "## Adding a few more rows\n",
    "Here are a few more famous giant pandas."
   ]
  },
  {
   "cell_type": "code",
   "execution_count": null,
   "metadata": {
    "collapsed": true
   },
   "outputs": [],
   "source": [
    "baobao = { \"name\": \"Bao Bao\", \"sex\": \"Female\", \"age\": 4, \"home\":\"Woolong\", \"country\": \"China\"}"
   ]
  },
  {
   "cell_type": "code",
   "execution_count": null,
   "metadata": {
    "collapsed": true
   },
   "outputs": [],
   "source": [
    "beibei = { \"name\": \"Bei Bei\", \"sex\": \"Male\", \"age\": 2, \"home\":\"National Zoo\", \"country\": \"US\"}"
   ]
  },
  {
   "cell_type": "code",
   "execution_count": null,
   "metadata": {},
   "outputs": [],
   "source": [
    "chuang = { \"name\": \"Chuang Chuang\", \"sex\": \"Male\", \"age\": 17, \"home\":\"Chiang Mai Zoo\", \"country\": \"China\"}"
   ]
  },
  {
   "cell_type": "code",
   "execution_count": null,
   "metadata": {
    "collapsed": true
   },
   "outputs": [],
   "source": [
    "damao = { \"name\": \"Da Mao\", \"sex\": \"Male\", \"age\": 9, \"home\":\"Calgary Zoo\", \"country\": \"Canada\"}"
   ]
  },
  {
   "cell_type": "markdown",
   "metadata": {},
   "source": [
    "In the following cell, check to see if the entries seem okay.  (Make sure to execute each expression above.)"
   ]
  },
  {
   "cell_type": "code",
   "execution_count": null,
   "metadata": {
    "collapsed": true
   },
   "outputs": [],
   "source": []
  },
  {
   "cell_type": "markdown",
   "metadata": {},
   "source": [
    "## Building a table\n",
    "We build a table with `pd.DataFrame(columns-[...],data=[...])`.  `columns` is a list of strings that name the columns.  `data` is a list of the rows."
   ]
  },
  {
   "cell_type": "code",
   "execution_count": null,
   "metadata": {
    "collapsed": true
   },
   "outputs": [],
   "source": [
    "giant_pandas = pd.DataFrame(columns=[\"name\",\"sex\",\"age\"],\n",
    "                            data=[baiyun,baobao,beibei,chuang,damao])"
   ]
  },
  {
   "cell_type": "markdown",
   "metadata": {},
   "source": [
    "Let's print out the table.  Make sure to execute the previous command as well as the next command."
   ]
  },
  {
   "cell_type": "code",
   "execution_count": null,
   "metadata": {},
   "outputs": [],
   "source": [
    "giant_pandas"
   ]
  },
  {
   "cell_type": "markdown",
   "metadata": {},
   "source": [
    "Pretty cool, isn't it?"
   ]
  },
  {
   "cell_type": "markdown",
   "metadata": {},
   "source": [
    "## Some experiments\n",
    "Let's see what else we can do to build the table."
   ]
  },
  {
   "cell_type": "markdown",
   "metadata": {},
   "source": [
    "### Add columns\n",
    "You'll note that we had a \"home\" and a \"country\" for each panda, but these don't appear in the output.  Update the instruction to add those columns."
   ]
  },
  {
   "cell_type": "code",
   "execution_count": null,
   "metadata": {},
   "outputs": [],
   "source": [
    "giant_pandas = pd.DataFrame(columns=[\"name\",\"sex\",\"age\"],\n",
    "                            data=[baiyun,baobao,beibei,chuang,damao])\n",
    "giant_pandas"
   ]
  },
  {
   "cell_type": "markdown",
   "metadata": {},
   "source": [
    "### Rearrange columns\n",
    "We can control the order in which values appear in the table.  In the command below, change the order of \"sex\" and \"age\".  Change the order of \"home\" and \"country\".  *What effect do you expect that change to have?*"
   ]
  },
  {
   "cell_type": "code",
   "execution_count": null,
   "metadata": {},
   "outputs": [],
   "source": [
    "giant_pandas = pd.DataFrame(columns=[\"name\",\"sex\",\"age\",\"home\",\"country\"],\n",
    "                            data=[baiyun,baobao,beibei,chuang,damao])\n",
    "giant_pandas"
   ]
  },
  {
   "cell_type": "markdown",
   "metadata": {},
   "source": [
    "### Rearrange rows\n",
    "*What do you think happens if we change the order of the rows?*  Rearrange the list of pandas in the `data` below and see what happens."
   ]
  },
  {
   "cell_type": "code",
   "execution_count": null,
   "metadata": {},
   "outputs": [],
   "source": [
    "giant_pandas = pd.DataFrame(columns=[\"name\",\"sex\",\"age\",\"home\",\"country\"],\n",
    "                            data=[baiyun,baobao,beibei,chuang,damao])\n",
    "giant_pandas"
   ]
  },
  {
   "cell_type": "markdown",
   "metadata": {},
   "source": [
    "### Add another row\n",
    "You're now ready to add your own data to the table.  Pick one of the giant pandas \n",
    "mentioned one [the Wikipedia page](https://en.wikipedia.org/wiki/List_of_giant_pandas) \n",
    "and add it to the table."
   ]
  },
  {
   "cell_type": "code",
   "execution_count": null,
   "metadata": {},
   "outputs": [],
   "source": [
    "new_panda = { \"name\": \"name\" }\n",
    "giant_pandas = pd.DataFrame(columns=[\"name\",\"sex\",\"age\",\"home\",\"country\"],\n",
    "                            data=[baiyun,baobao,beibei,chuang,damao])\n",
    "giant_pandas"
   ]
  },
  {
   "cell_type": "markdown",
   "metadata": {},
   "source": [
    "### Add another column\n",
    "Suppose we add a column for favorite food.  What do you expect to happen?  Give it a try and find out."
   ]
  },
  {
   "cell_type": "code",
   "execution_count": null,
   "metadata": {},
   "outputs": [],
   "source": [
    "giant_pandas = pd.DataFrame(columns=[\"name\",\"sex\",\"age\",\"home\",\"country\",\"favefood\"],\n",
    "                            data=[baiyun,baobao,beibei,chuang,damao])\n",
    "giant_pandas"
   ]
  },
  {
   "cell_type": "markdown",
   "metadata": {},
   "source": [
    "As you've probably discovered.  We get \"NaN\" for any missing data.  And we don't have a favorite food for any of the pandas.  Go back and add one to each.  Since Wikipedia doesn't tell you, you can make it up.  (I used \"Eucalyptus\" and \"Bamboo\".) *Make sure to run the cells again after you enter the data.*"
   ]
  },
  {
   "cell_type": "markdown",
   "metadata": {},
   "source": [
    "## Selecting rows\n",
    "What if we want only part of the data set, such as only the pandas that are in China?  Data frames provide a way to do so, but it's a bit weird.  Try the following."
   ]
  },
  {
   "cell_type": "code",
   "execution_count": null,
   "metadata": {},
   "outputs": [],
   "source": [
    "giant_pandas.loc[giant_pandas[\"country\"] == \"China\"]"
   ]
  },
  {
   "cell_type": "markdown",
   "metadata": {},
   "source": [
    "We might want to name that table for for just those entries."
   ]
  },
  {
   "cell_type": "code",
   "execution_count": null,
   "metadata": {},
   "outputs": [],
   "source": [
    "pandas_in_china = giant_pandas.loc[giant_pandas[\"country\"] == \"China\"]\n",
    "pandas_in_china"
   ]
  },
  {
   "cell_type": "markdown",
   "metadata": {},
   "source": [
    "### Your turn\n",
    "Now it's your turn.  Write a command to select just the male pandas."
   ]
  },
  {
   "cell_type": "code",
   "execution_count": null,
   "metadata": {},
   "outputs": [],
   "source": [
    "male_pandas = []\n",
    "male_pandas"
   ]
  },
  {
   "cell_type": "markdown",
   "metadata": {},
   "source": [
    "### A challenge\n",
    "Write a command to select the male pandas in the U.S."
   ]
  },
  {
   "cell_type": "code",
   "execution_count": null,
   "metadata": {},
   "outputs": [],
   "source": [
    "male_pandas_in_us = []"
   ]
  },
  {
   "cell_type": "markdown",
   "metadata": {},
   "source": [
    "## Selecting columns\n",
    "We can also select just a column of data to get something like a Python list, but more powerful.  You write `data_frame[\"column_name\"]` to get a particular column. Let's select just the \"sex\" column."
   ]
  },
  {
   "cell_type": "code",
   "execution_count": null,
   "metadata": {},
   "outputs": [],
   "source": [
    "giant_pandas[\"sex\"]"
   ]
  },
  {
   "cell_type": "markdown",
   "metadata": {},
   "source": [
    "It may be useful to name that column.  Try the following command."
   ]
  },
  {
   "cell_type": "code",
   "execution_count": null,
   "metadata": {},
   "outputs": [],
   "source": [
    "panda_sexes = giant_pandas[\"sex\"]\n",
    "panda_sexes"
   ]
  },
  {
   "cell_type": "markdown",
   "metadata": {},
   "source": [
    "What can we do once we have a column?  If it's a column of numbers, we can ask \n",
    "for things like the mean, median, and mode.  If it's a column of words, we can count the number of words with `column.value_counts`.  Try the following command."
   ]
  },
  {
   "cell_type": "code",
   "execution_count": null,
   "metadata": {},
   "outputs": [],
   "source": [
    "panda_sexes.value_counts()"
   ]
  },
  {
   "cell_type": "markdown",
   "metadata": {},
   "source": [
    "### Your turn\n",
    "Now it's your turn.  Write commands to count how many pandas are in each country."
   ]
  },
  {
   "cell_type": "code",
   "execution_count": null,
   "metadata": {},
   "outputs": [],
   "source": []
  },
  {
   "cell_type": "markdown",
   "metadata": {},
   "source": [
    "## If you finish early\n",
    "If you finish early, see what else you can do with our data set of pandas.  Here are some things you might try.\n",
    "\n",
    "* Add a few more pandas.\n",
    "* See if you can produce a tally of genders per country.\n",
    "* See if you can figure out the average age of the pandas.\n",
    "* See if you can figure out the average age of the male pandas and the female pandas.\n",
    "* Be creative on other questions!"
   ]
  },
  {
   "cell_type": "code",
   "execution_count": null,
   "metadata": {
    "collapsed": true
   },
   "outputs": [],
   "source": []
  }
 ],
 "metadata": {
  "kernelspec": {
   "display_name": "Python 3",
   "language": "python",
   "name": "python3"
  },
  "language_info": {
   "codemirror_mode": {
    "name": "ipython",
    "version": 3
   },
   "file_extension": ".py",
   "mimetype": "text/x-python",
   "name": "python",
   "nbconvert_exporter": "python",
   "pygments_lexer": "ipython3",
   "version": "3.5.2"
  }
 },
 "nbformat": 4,
 "nbformat_minor": 2
}
