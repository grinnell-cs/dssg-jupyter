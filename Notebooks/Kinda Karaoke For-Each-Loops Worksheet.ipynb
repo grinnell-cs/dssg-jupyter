{
 "cells": [
  {
   "cell_type": "markdown",
   "metadata": {},
   "source": [
    "# Kinda Karaoke\n",
    "### IMPORTANT: Press Ctrl+Enter on each code snippet if you don't want errors"
   ]
  },
  {
   "cell_type": "markdown",
   "metadata": {},
   "source": [
    "## Part 1: Marching Time\n",
    "\n",
    "Music has timing and rythm. First we must ensure that we can provide our lyrics with measured pacing. "
   ]
  },
  {
   "cell_type": "markdown",
   "metadata": {},
   "source": [
    "### How can we record the passing of a second?\n",
    "\n",
    "Print out the text `\"One second has passed.\"` below:"
   ]
  },
  {
   "cell_type": "code",
   "execution_count": null,
   "metadata": {
    "collapsed": true
   },
   "outputs": [],
   "source": []
  },
  {
   "cell_type": "markdown",
   "metadata": {},
   "source": [
    "### How can we record the passing of ten seconds?\n",
    "\n",
    "Edit the code below to print out the text `\"One second has passed.\"` **10 times**: "
   ]
  },
  {
   "cell_type": "code",
   "execution_count": null,
   "metadata": {
    "collapsed": true
   },
   "outputs": [],
   "source": [
    "for element in range(10):\n",
    "    # Add your code here"
   ]
  },
  {
   "cell_type": "markdown",
   "metadata": {},
   "source": [
    "### Well, that certainly didn't take ten seconds...\n",
    "\n",
    "In order to measure time ACCURATELY (or semi-accurately) we import a library conveniently named `time`. **Run the code below.**"
   ]
  },
  {
   "cell_type": "code",
   "execution_count": 38,
   "metadata": {
    "collapsed": true
   },
   "outputs": [],
   "source": [
    "import time"
   ]
  },
  {
   "cell_type": "markdown",
   "metadata": {},
   "source": [
    "### Why do we care about sleep?\n",
    "\n",
    "The `time` library has a command called `sleep`. This command makes the program wait a specified number of seconds before running its next command. Specifically, `time.sleep(1)` makes the program _wait one second_.\n",
    "\n",
    "### We can now fix our previous code!\n",
    "\n",
    "The code above printed too quickly, thus adding a `sleep` command or two would probably make it more accurate. **Add to the code below** to make sure that there is **one second** between each time the code prints the text \"One second has passed\" and the next time that the same text is printed."
   ]
  },
  {
   "cell_type": "code",
   "execution_count": null,
   "metadata": {
    "collapsed": true
   },
   "outputs": [],
   "source": [
    "for item in range(10):\n",
    "    # Add your code here"
   ]
  },
  {
   "cell_type": "markdown",
   "metadata": {},
   "source": [
    "### How can we record the passing of more than ten seconds?\n",
    "\n",
    "Write code below to print out the text `\"La\"` **thirteen times**."
   ]
  },
  {
   "cell_type": "code",
   "execution_count": null,
   "metadata": {
    "collapsed": true
   },
   "outputs": [],
   "source": []
  },
  {
   "cell_type": "markdown",
   "metadata": {},
   "source": [
    "### What if we want to print out text faster?\n",
    "\n",
    "Write code below that prints out the text `\"Na\"` **sixteen times** every **half-second**."
   ]
  },
  {
   "cell_type": "code",
   "execution_count": null,
   "metadata": {
    "collapsed": true
   },
   "outputs": [],
   "source": []
  },
  {
   "cell_type": "markdown",
   "metadata": {},
   "source": [
    "## Part 2: Inconsistent Time\n",
    "\n",
    "Most music does not contain a beat for every second that passes. Sometimes the lyrics come out fast and other times there is a pause in between them.  \n",
    "Below, we have provided a list called `pauses`. This list contains an order of pauses for a short song. **Run the code below.**"
   ]
  },
  {
   "cell_type": "code",
   "execution_count": 42,
   "metadata": {
    "collapsed": true
   },
   "outputs": [],
   "source": [
    "pauses = [0.1, 0.1, 1, 1, 2, 0.25, 1]"
   ]
  },
  {
   "cell_type": "markdown",
   "metadata": {},
   "source": [
    "### How can we print out this list?\n",
    "\n",
    "Write code to print the list `pauses`."
   ]
  },
  {
   "cell_type": "code",
   "execution_count": null,
   "metadata": {
    "collapsed": true
   },
   "outputs": [],
   "source": []
  },
  {
   "cell_type": "markdown",
   "metadata": {},
   "source": [
    "### How can we print out this list line by line?\n",
    "\n",
    "The pausing times will be easier to read if we print them out on separate lines. Fill in the code below to print out each time on its own separate line.\n",
    "\n",
    "Your result should look like this:  \n",
    "`0.1  \n",
    "0.1  \n",
    "1  \n",
    "1  \n",
    "2  \n",
    "0.25  \n",
    "1`"
   ]
  },
  {
   "cell_type": "code",
   "execution_count": null,
   "metadata": {
    "collapsed": true
   },
   "outputs": [],
   "source": [
    "for element in pauses:\n",
    "    # Add your code here"
   ]
  },
  {
   "cell_type": "markdown",
   "metadata": {},
   "source": [
    "### How can we print each number and then pause the amount of time that was printed?\n",
    "\n",
    "We can establish a sense of rhythm if we print out each number from the list `pauses` and then wait that amount of seconds before printing the next number.\n",
    "\n",
    "This means that **your result will not be printed all at once**!\n",
    "\n",
    "Your result should run like this:  \n",
    "`0.1  (wait one tenth of a second)  \n",
    "0.1  (wait one tenth of a second)  \n",
    "1    (wait one second)  \n",
    "1    (wait one second)  \n",
    "2    (wait two seconds)  \n",
    "0.25 (wait one fourth of a second)  \n",
    "1    (wait one second)`"
   ]
  },
  {
   "cell_type": "code",
   "execution_count": null,
   "metadata": {
    "collapsed": true
   },
   "outputs": [],
   "source": [
    "for element in pauses: \n",
    "    # Add your code to print the number here\n",
    "    # Add your code to wait the number of seconds here"
   ]
  },
  {
   "cell_type": "markdown",
   "metadata": {},
   "source": [
    "### What if we want to print more than numbers?\n",
    "\n",
    "Write code below that prints out the text `\"Tralala\"` using the pause times from the `pauses` list. "
   ]
  },
  {
   "cell_type": "code",
   "execution_count": null,
   "metadata": {
    "collapsed": true
   },
   "outputs": [],
   "source": []
  },
  {
   "cell_type": "markdown",
   "metadata": {},
   "source": [
    "## Part 3: Lyrics\n",
    "\n",
    "Karaoke without lyrics is no longer kareoke. That being said, we need to learn how to process lists of strings. "
   ]
  },
  {
   "cell_type": "markdown",
   "metadata": {},
   "source": [
    "### How do we write out lyrics?\n",
    "\n",
    "Below is a list containing bad song lyrics. **Run the code below.**"
   ]
  },
  {
   "cell_type": "code",
   "execution_count": 45,
   "metadata": {
    "collapsed": true
   },
   "outputs": [],
   "source": [
    "lyrics = ['this', 'is', 'a', 'song-lyric', 'somehow', 'la', 'laaaa']"
   ]
  },
  {
   "cell_type": "markdown",
   "metadata": {},
   "source": [
    "### How do we display lyrics one line at a time?\n",
    "\n",
    "Write code below that displays each element of the list `lyrics` on its own line. \n",
    "\n",
    "Your result should look like this:  \n",
    "`this  \n",
    "is  \n",
    "a  \n",
    "song-lyric  \n",
    "somehow  \n",
    "la  \n",
    "laaaa`"
   ]
  },
  {
   "cell_type": "code",
   "execution_count": null,
   "metadata": {
    "collapsed": true
   },
   "outputs": [],
   "source": []
  },
  {
   "cell_type": "markdown",
   "metadata": {},
   "source": [
    "### How would we dispaly each lyric twice? \n",
    "\n",
    "Write code below that displays each element of the list `lyrics` twice on its own line. \n",
    "\n",
    "Your result should look like this:  \n",
    "`this this  \n",
    "is is  \n",
    "a a  \n",
    "song-lyric song-lyric  \n",
    "somehow  \n",
    "la la  \n",
    "laaaa laaaa`"
   ]
  },
  {
   "cell_type": "code",
   "execution_count": null,
   "metadata": {
    "collapsed": true
   },
   "outputs": [],
   "source": []
  },
  {
   "cell_type": "markdown",
   "metadata": {},
   "source": [
    "# Part 4: Lyrics and Timing\n",
    "\n",
    "In order to make a set of lyrics that are printed rhythmically, we need a way to print each element of the `lyrics` list before using the sleep command to wait the amount of time specified by the elements of the `pause` list. How can we do this? **We need to learn to print in a new way.**  "
   ]
  },
  {
   "cell_type": "markdown",
   "metadata": {},
   "source": [
    "### How do we normally print out list elements?\n",
    "\n",
    "Write code below to **print out the first element** in the `lyrics` list. (Hint: Remember learning about indicies?)"
   ]
  },
  {
   "cell_type": "code",
   "execution_count": null,
   "metadata": {
    "collapsed": true
   },
   "outputs": [],
   "source": []
  },
  {
   "cell_type": "markdown",
   "metadata": {},
   "source": [
    "Write code below to **print out the first element** in the `pauses` list. (Hint: Remember learning about indicies?)"
   ]
  },
  {
   "cell_type": "code",
   "execution_count": null,
   "metadata": {
    "collapsed": true
   },
   "outputs": [],
   "source": []
  },
  {
   "cell_type": "markdown",
   "metadata": {},
   "source": [
    "### How can we get a list of indices?\n",
    "\n",
    "Edit the code below so that we get a list from 0 to 6 rather than 0 to 2. "
   ]
  },
  {
   "cell_type": "code",
   "execution_count": null,
   "metadata": {
    "collapsed": true
   },
   "outputs": [],
   "source": [
    "print((list)(range(3)))"
   ]
  },
  {
   "cell_type": "markdown",
   "metadata": {},
   "source": [
    "### How can we use range to print out lyrics at certain times?\n",
    "\n",
    "See the table below...  \n",
    "\n",
    "| List Index | Range(len(lst)) Element | lyrics Element | pauses Element |\n",
    "|------------|-------------------------|----------------|----------------|\n",
    "| **0**      | 0                       | this           | 0.1            |\n",
    "| **1**      | 1                       | is             | 0.1            |\n",
    "| **2**      | 2                       | a              | 1              |\n",
    "| **3**      | 3                       | song-lyric     | 1              |\n",
    "| **4**      | 4                       | somehow        | 2              |\n",
    "| **5**      | 5                       | la             | 0.25           |\n",
    "| **6**      | 6                       | laaaa          | 1              |\n",
    "\n",
    "#### Notice that we can print out each element of the lyrics list like this...\n",
    "\n",
    "**Run the code below.**"
   ]
  },
  {
   "cell_type": "code",
   "execution_count": 52,
   "metadata": {},
   "outputs": [
    {
     "name": "stdout",
     "output_type": "stream",
     "text": [
      "this\n",
      "is\n",
      "a\n",
      "song-lyric\n",
      "somehow\n",
      "la\n",
      "laaaa\n"
     ]
    }
   ],
   "source": [
    "for index in range(len(lyrics)):\n",
    "    print(lyrics[index])"
   ]
  },
  {
   "cell_type": "markdown",
   "metadata": {},
   "source": [
    "### Looking at the code above... How would we print out each element in the pauses list?\n",
    "\n",
    "Edit code below to print out each element in the pauses list. "
   ]
  },
  {
   "cell_type": "code",
   "execution_count": null,
   "metadata": {
    "collapsed": true
   },
   "outputs": [],
   "source": [
    "for index in range(len(lyrics)):\n",
    "    print(lyrics[index])"
   ]
  },
  {
   "cell_type": "markdown",
   "metadata": {},
   "source": [
    "### How can we print out an element from each list?\n",
    "\n",
    "Write code below to produce the following output:  \n",
    "`0.1 this  \n",
    "0.1 is  \n",
    "1 a\n",
    "1 song-lyric\n",
    "2 somehow  \n",
    "0.25 la\n",
    "1 laaaa`"
   ]
  },
  {
   "cell_type": "code",
   "execution_count": null,
   "metadata": {
    "collapsed": true
   },
   "outputs": [],
   "source": [
    "for index in range(len(lyrics)):\n",
    "    # Add code here for printing out each element of the pauses list and each element of the lyrics list"
   ]
  },
  {
   "cell_type": "markdown",
   "metadata": {},
   "source": [
    "### Putting it all together!\n",
    "\n",
    "#### What if we did not print the element from the pauses list?\n",
    "\n",
    "Use the `time.sleep()` command to pause the amount of time specified by the `pauses` list after printing each corresponding element from the `lyrics` list.\n",
    "\n",
    "Write your code below."
   ]
  },
  {
   "cell_type": "code",
   "execution_count": null,
   "metadata": {
    "collapsed": true
   },
   "outputs": [],
   "source": [
    "for index in range(len(lyric)):\n",
    "    # Add your code to print each lyric here\n",
    "    # Add your code for each pause here"
   ]
  },
  {
   "cell_type": "markdown",
   "metadata": {},
   "source": [
    "## Part 5: Your Own Song\n",
    "\n",
    "Use what we have learned so far to make your own lyrics and timing!\n",
    "\n",
    "**Make sure that your lists are the same length!!!**"
   ]
  },
  {
   "cell_type": "code",
   "execution_count": null,
   "metadata": {
    "collapsed": true
   },
   "outputs": [],
   "source": [
    "myLyrics = []\n",
    "myPauses = []\n",
    "\n",
    "for index in range(len(myLyrics)):\n",
    "    # Add your code to print each lyric here\n",
    "    # Add your code for each pause here"
   ]
  },
  {
   "cell_type": "markdown",
   "metadata": {},
   "source": [
    "## Extension: Repetition Repetition Repetition\n",
    "\n",
    "Oftentimes lyrics are repeated for emphasis. We can do this using loops!\n",
    "\n",
    "Write code below that will repeat your lyrics and pauses **three times**. "
   ]
  },
  {
   "cell_type": "code",
   "execution_count": null,
   "metadata": {
    "collapsed": true
   },
   "outputs": [],
   "source": []
  }
 ],
 "metadata": {
  "kernelspec": {
   "display_name": "Python 3",
   "language": "python",
   "name": "python3"
  },
  "language_info": {
   "codemirror_mode": {
    "name": "ipython",
    "version": 3
   },
   "file_extension": ".py",
   "mimetype": "text/x-python",
   "name": "python",
   "nbconvert_exporter": "python",
   "pygments_lexer": "ipython3",
   "version": "3.5.2"
  }
 },
 "nbformat": 4,
 "nbformat_minor": 2
}
