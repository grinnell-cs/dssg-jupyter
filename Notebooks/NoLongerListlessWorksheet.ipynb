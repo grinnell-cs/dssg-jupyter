{
 "cells": [
  {
   "cell_type": "markdown",
   "metadata": {},
   "source": [
    "# We Are No Longer Listless!\n",
    "## Remember to run the program.\n",
    "Select the cell, and hit **Ctrl+Enter** to run the program.\n",
    "Or you can click Cell then click Run Cell. \n",
    "\n",
    "## Do not forget to save your program! \n",
    "There are two ways to do this, you can either: \n",
    "1. Hit **Ctrl+S** \n",
    "2. Or click File then click Save and Checkpoint \n"
   ]
  },
  {
   "cell_type": "markdown",
   "metadata": {},
   "source": [
    "## Part 1: Create List \n",
    "Let's make list of our favorite numbers. "
   ]
  },
  {
   "cell_type": "code",
   "execution_count": null,
   "metadata": {
    "collapsed": true
   },
   "outputs": [],
   "source": [
    "# Name the list \"favNums\"\n"
   ]
  },
  {
   "cell_type": "markdown",
   "metadata": {},
   "source": [
    "Use fib.append() to build fib"
   ]
  },
  {
   "cell_type": "code",
   "execution_count": null,
   "metadata": {
    "collapsed": true
   },
   "outputs": [],
   "source": []
  },
  {
   "cell_type": "markdown",
   "metadata": {},
   "source": [
    "How can we print the list? Do you remember how to print \"Hello World!\"?"
   ]
  },
  {
   "cell_type": "code",
   "execution_count": null,
   "metadata": {
    "collapsed": true
   },
   "outputs": [],
   "source": [
    "# Print \"Hello World!\"\n"
   ]
  },
  {
   "cell_type": "markdown",
   "metadata": {},
   "source": [
    "Let's put the name of list in the place of \"Hello World!\""
   ]
  },
  {
   "cell_type": "code",
   "execution_count": null,
   "metadata": {
    "collapsed": true
   },
   "outputs": [],
   "source": []
  },
  {
   "cell_type": "markdown",
   "metadata": {},
   "source": [
    "How can we declare the list? Let's make list \"time\" and print!"
   ]
  },
  {
   "cell_type": "code",
   "execution_count": null,
   "metadata": {
    "collapsed": true
   },
   "outputs": [],
   "source": []
  },
  {
   "cell_type": "markdown",
   "metadata": {},
   "source": [
    "### Extension:\n",
    "Can we store different data types in the same list? Try camp = [“Data”, “Science”, 2018, True]."
   ]
  },
  {
   "cell_type": "code",
   "execution_count": null,
   "metadata": {
    "collapsed": true
   },
   "outputs": [],
   "source": []
  },
  {
   "cell_type": "markdown",
   "metadata": {
    "collapsed": true
   },
   "source": [
    "### Make the user build the list!\n",
    "**Remember** We can use list.append() to add elements\n"
   ]
  },
  {
   "cell_type": "code",
   "execution_count": 2,
   "metadata": {},
   "outputs": [
    {
     "name": "stdout",
     "output_type": "stream",
     "text": [
      "What time is it?5\n",
      "What day is today?(ex Monday)m\n",
      "['5', 'm']\n"
     ]
    }
   ],
   "source": [
    "now = []\n",
    "user_time = input(\"What time is it?\")\n",
    "now.append(user_time)\n",
    "user_day = input(\"What day is today?(ex Monday)\")"
   ]
  },
  {
   "cell_type": "markdown",
   "metadata": {},
   "source": [
    "Make something interesting!"
   ]
  },
  {
   "cell_type": "code",
   "execution_count": null,
   "metadata": {
    "collapsed": true
   },
   "outputs": [],
   "source": []
  },
  {
   "cell_type": "markdown",
   "metadata": {},
   "source": [
    "### How about list as element of list?\n",
    "How can we make a list of Stella's camper group?\n",
    "In Stella's group, there are Aaron, Freya, Kaetlyn, Tristan."
   ]
  },
  {
   "cell_type": "code",
   "execution_count": null,
   "metadata": {
    "collapsed": true
   },
   "outputs": [],
   "source": [
    "groupStella = "
   ]
  },
  {
   "cell_type": "markdown",
   "metadata": {},
   "source": [
    "### How about list as element of list?\n",
    "Can we make the list of every camper group and print?\n",
    "The result should look like "
   ]
  },
  {
   "cell_type": "markdown",
   "metadata": {},
   "source": [
    "[['Stella', 'Aaron', 'Freya', 'Kaetlyn', 'Tristan'], ['Vanessa', 'Eli', 'Clare', 'Kalli', 'Ruari'], ['Bella', 'Daniel', 'Logan', 'Tobias', 'Ricky', 'Garinn'], ['James', 'Cali', 'Preston', 'Tyler', 'Maya', 'Mary'], ['Yesheng', 'Isabel', 'Eva', 'Kennedy', 'Connie'], ['Syamala', 'Alex', 'Neveah', 'Josie', 'Seth', 'Kayne']]"
   ]
  },
  {
   "cell_type": "code",
   "execution_count": null,
   "metadata": {
    "collapsed": true
   },
   "outputs": [],
   "source": [
    "DSSG ="
   ]
  },
  {
   "cell_type": "markdown",
   "metadata": {},
   "source": [
    "How can we print Vanessa's group?"
   ]
  },
  {
   "cell_type": "code",
   "execution_count": null,
   "metadata": {
    "collapsed": true
   },
   "outputs": [],
   "source": []
  },
  {
   "cell_type": "markdown",
   "metadata": {},
   "source": [
    "## Part 2: Getting the Stuff Inside Lists "
   ]
  },
  {
   "cell_type": "code",
   "execution_count": null,
   "metadata": {
    "collapsed": true
   },
   "outputs": [],
   "source": [
    "# Run this code\n",
    "print (time[0])"
   ]
  },
  {
   "cell_type": "markdown",
   "metadata": {},
   "source": [
    "### That's the Magic Number!\n",
    "1. Make the list (max 10 elements)\n",
    "2. Write a program that uses conditionals to decide if the the first element of the list is the number 3.\n",
    "3. If this is true, print out a message that says “That is the magic number!”"
   ]
  },
  {
   "cell_type": "code",
   "execution_count": null,
   "metadata": {
    "collapsed": true
   },
   "outputs": [],
   "source": []
  },
  {
   "cell_type": "markdown",
   "metadata": {},
   "source": [
    "### Extension:\n",
    "### What if the list has wrong element?\n",
    "How can we fix this without redeclaring the list?\n"
   ]
  },
  {
   "cell_type": "code",
   "execution_count": null,
   "metadata": {
    "collapsed": true
   },
   "outputs": [],
   "source": [
    "myName = [\"S\",\"T\",\"E\",\"L\",\"N\",\"A\"]\n",
    "# How can we change myname to be [\"S\",\"T\",\"E\",\"L\",\"L\",\"A\"]?\n",
    "# Do not change the code above!\n"
   ]
  },
  {
   "cell_type": "markdown",
   "metadata": {},
   "source": [
    "### What if we want to change our favorite numbers? \n",
    "Can we change the first element of favNums (favNums [0]) to 12?"
   ]
  },
  {
   "cell_type": "code",
   "execution_count": null,
   "metadata": {
    "collapsed": true
   },
   "outputs": [],
   "source": []
  },
  {
   "cell_type": "markdown",
   "metadata": {},
   "source": [
    "Can we increase the third element (favNums [2]) by 1?"
   ]
  },
  {
   "cell_type": "code",
   "execution_count": null,
   "metadata": {
    "collapsed": true
   },
   "outputs": [],
   "source": []
  },
  {
   "cell_type": "markdown",
   "metadata": {},
   "source": [
    "How can we get the difference between the first element and third element of favNums?"
   ]
  },
  {
   "cell_type": "code",
   "execution_count": null,
   "metadata": {
    "collapsed": true
   },
   "outputs": [],
   "source": []
  },
  {
   "cell_type": "markdown",
   "metadata": {},
   "source": [
    "# Part 3: Hangman\n",
    "We are going to play Hangman with computer!\n",
    "Just to make sure, we cannot get multiple index, so it might be better if we set hangman word with a character appearing several times!\n",
    "For example, if hangman = ['G','R','I','N','N','E','L','L'] hangman.index('N') will only return 3."
   ]
  },
  {
   "cell_type": "code",
   "execution_count": null,
   "metadata": {
    "collapsed": true
   },
   "outputs": [],
   "source": [
    "# Run this code\n",
    "# Do not edit this code except the last line!!!!\n",
    "from IPython.display import HTML\n",
    "from IPython.display import display\n",
    "\n",
    "# Taken from https://stackoverflow.com/questions/31517194/how-to-hide-one-specific-cell-input-or-output-in-ipython-notebook\n",
    "tag = HTML('''<script>\n",
    "code_show=true; \n",
    "function code_toggle() {\n",
    "    if (code_show){\n",
    "        $('div.cell.code_cell.rendered.selected div.input').hide();\n",
    "    } else {\n",
    "        $('div.cell.code_cell.rendered.selected div.input').show();\n",
    "    }\n",
    "    code_show = !code_show\n",
    "} \n",
    "$( document ).ready(code_toggle);\n",
    "</script>\n",
    "To show/hide this cell's raw code input, click <a href=\"javascript:code_toggle()\">here</a>.''')\n",
    "display(tag)\n",
    "\n",
    "# Edit the list hangman to play hangman\n",
    "hangman = ['J','U','P','Y','T','E','R']"
   ]
  },
  {
   "cell_type": "code",
   "execution_count": null,
   "metadata": {
    "collapsed": true
   },
   "outputs": [],
   "source": [
    "# This code prints the length of the word hangman\n",
    "print (len(hangman))"
   ]
  },
  {
   "cell_type": "code",
   "execution_count": null,
   "metadata": {
    "collapsed": true
   },
   "outputs": [],
   "source": [
    "# Start Guessing!\n",
    "print (hangman.index('A'))"
   ]
  },
  {
   "cell_type": "markdown",
   "metadata": {},
   "source": [
    "# Part 4: MMMMM \n",
    "We want more than knowing elements in the list. \n",
    "\n",
    "### Who is Oldest or Youngest Person Around you?\n",
    "1. Ask ages from people near you!\n",
    "2. Make a list and Name the list “ages”\n",
    "3. Use max(ages) and min(ages)"
   ]
  },
  {
   "cell_type": "code",
   "execution_count": null,
   "metadata": {
    "collapsed": true
   },
   "outputs": [],
   "source": [
    "# Make a list\n",
    "ages = []"
   ]
  },
  {
   "cell_type": "code",
   "execution_count": null,
   "metadata": {
    "collapsed": true
   },
   "outputs": [],
   "source": [
    "# Find who is oldest\n",
    "\n",
    "\n",
    "# Find who is youngest\n"
   ]
  },
  {
   "cell_type": "markdown",
   "metadata": {},
   "source": [
    "#### How about mean of our ages list?\n",
    "*Remember* Mean = sum of numbers / numbers of numbers"
   ]
  },
  {
   "cell_type": "code",
   "execution_count": null,
   "metadata": {
    "collapsed": true
   },
   "outputs": [],
   "source": [
    "agesMean = "
   ]
  },
  {
   "cell_type": "markdown",
   "metadata": {},
   "source": [
    "# Import Packages\n",
    "Computer Scientists are efficient. We don't want to calculate everything by ourselves. In statistics package, we have mean, median, mode functions. "
   ]
  },
  {
   "cell_type": "code",
   "execution_count": null,
   "metadata": {
    "collapsed": true
   },
   "outputs": [],
   "source": [
    "# Run this code\n",
    "import statistics"
   ]
  },
  {
   "cell_type": "markdown",
   "metadata": {},
   "source": [
    "Try to find mean, median, mode of ages."
   ]
  },
  {
   "cell_type": "code",
   "execution_count": null,
   "metadata": {
    "collapsed": true
   },
   "outputs": [],
   "source": [
    "agesMean =\n",
    "agesMedian = \n",
    "agesMode = "
   ]
  },
  {
   "cell_type": "markdown",
   "metadata": {},
   "source": [
    "### Extension\n",
    "### Average ACT Scores by State\n",
    "Iowa's Average English, Math, Reading, Science (Graduate Class 2017)\n",
    "\n",
    "| English | Math\t| Reading | Science\t|\n",
    "|:-------:|:-------:|:-------:|:-------:|\n",
    "| 21.2\t  | 21.3    | 22.6\t  |22.1     |\n",
    "How can we get Iowa's ACT composite score?"
   ]
  },
  {
   "cell_type": "code",
   "execution_count": null,
   "metadata": {
    "collapsed": true
   },
   "outputs": [],
   "source": [
    "IowaACT = []\n",
    "# Composite score = mean of scores from every section\n"
   ]
  },
  {
   "cell_type": "markdown",
   "metadata": {},
   "source": [
    "What is median and mode for Iowa ACT scores?"
   ]
  },
  {
   "cell_type": "code",
   "execution_count": null,
   "metadata": {
    "collapsed": true
   },
   "outputs": [],
   "source": []
  },
  {
   "cell_type": "markdown",
   "metadata": {},
   "source": [
    "Can we name the score with the subject?"
   ]
  },
  {
   "cell_type": "code",
   "execution_count": null,
   "metadata": {
    "collapsed": true
   },
   "outputs": [],
   "source": [
    "English = 21.2\n"
   ]
  },
  {
   "cell_type": "markdown",
   "metadata": {},
   "source": [
    "Can we store the variables in the list?"
   ]
  },
  {
   "cell_type": "code",
   "execution_count": null,
   "metadata": {
    "collapsed": true
   },
   "outputs": [],
   "source": [
    "IowaACT = []"
   ]
  },
  {
   "cell_type": "markdown",
   "metadata": {},
   "source": [
    "Which version is better to read?"
   ]
  },
  {
   "cell_type": "code",
   "execution_count": null,
   "metadata": {
    "collapsed": true
   },
   "outputs": [],
   "source": [
    "# Write Answer After \"#\"\n",
    "# \"#\" means your writing is comment, not code\n",
    "# "
   ]
  },
  {
   "cell_type": "markdown",
   "metadata": {},
   "source": [
    "## Review Time\n",
    "\n"
   ]
  },
  {
   "cell_type": "markdown",
   "metadata": {},
   "source": [
    "1) How would you get the number of numbers in the list?"
   ]
  },
  {
   "cell_type": "code",
   "execution_count": null,
   "metadata": {
    "collapsed": true
   },
   "outputs": [],
   "source": [
    "nums = [1, 10, -100, 60, 4, 29, -6, 5, 1000]"
   ]
  },
  {
   "cell_type": "markdown",
   "metadata": {},
   "source": [
    "2) How would get the index of the letter “e”?"
   ]
  },
  {
   "cell_type": "code",
   "execution_count": null,
   "metadata": {
    "collapsed": true
   },
   "outputs": [],
   "source": [
    "hi = [\"co\",\"lle\",\"g\",\"e\"]"
   ]
  },
  {
   "cell_type": "markdown",
   "metadata": {},
   "source": [
    "3) What would falsely.index(len(falsely) - 1) give you?"
   ]
  },
  {
   "cell_type": "code",
   "execution_count": null,
   "metadata": {
    "collapsed": true
   },
   "outputs": [],
   "source": [
    "falsey = [False, \"H\", \"OO\", \"D\"]"
   ]
  },
  {
   "cell_type": "markdown",
   "metadata": {},
   "source": [
    "4) How would you access the letter “a” in yesterday?"
   ]
  },
  {
   "cell_type": "code",
   "execution_count": null,
   "metadata": {
    "collapsed": true
   },
   "outputs": [],
   "source": [
    "yesterday = [\"m\",\"o\",\"n\",\"d\",\"a\",\"y\"]"
   ]
  },
  {
   "cell_type": "markdown",
   "metadata": {},
   "source": [
    "5) How would you get the maximum number in the list?"
   ]
  },
  {
   "cell_type": "code",
   "execution_count": null,
   "metadata": {
    "collapsed": true
   },
   "outputs": [],
   "source": [
    "numbers = [1, 10, 50, -60, 4, 29, -6, 5, 44]"
   ]
  },
  {
   "cell_type": "markdown",
   "metadata": {},
   "source": [
    "6) How can we print \"Syamala\" from the DSSG?"
   ]
  },
  {
   "cell_type": "code",
   "execution_count": null,
   "metadata": {
    "collapsed": true
   },
   "outputs": [],
   "source": [
    "DSSG = [[\"Stella\",\"Aaron\", \"Freya\", \"Kaetlyn\", \"Tristan\"],\n",
    "        [\"Vanessa\", \"Eli\", \"Clare\", \"Kalli\", \"Ruari\"],\n",
    "        [\"Bella\", \"Daniel\", \"Logan\", \"Tobias\", \"Ricky\", \"Garinn\"],\n",
    "        [\"James\",\"Cali\", \"Preston\", \"Tyler\", \"Maya\", \"Mary\"],\n",
    "        [\"Yesheng\", \"Isabel\", \"Eva\", \"Kennedy\", \"Connie\"],\n",
    "        [\"Syamala\", \"Alex\", \"Neveah\", \"Josie\", \"Seth\", \"Kayne\"]]"
   ]
  },
  {
   "cell_type": "markdown",
   "metadata": {},
   "source": [
    "7) How would you get the number of people is in James group including James? "
   ]
  },
  {
   "cell_type": "code",
   "execution_count": null,
   "metadata": {
    "collapsed": true
   },
   "outputs": [],
   "source": []
  },
  {
   "cell_type": "markdown",
   "metadata": {},
   "source": [
    "8) What would lst.index(max(integers)) give you?"
   ]
  },
  {
   "cell_type": "code",
   "execution_count": null,
   "metadata": {
    "collapsed": true
   },
   "outputs": [],
   "source": [
    "lst = [\"Hello\", \"campers\", \"today\", \"is\", 10, 7, \"July\", \"Tuesday\", \"in\", \"Noyce\"]\n",
    "integers = [3, 2, 4, 10, 4, 2, -4]"
   ]
  },
  {
   "cell_type": "markdown",
   "metadata": {},
   "source": [
    "9) What would lst[max(integers)] give you?"
   ]
  },
  {
   "cell_type": "code",
   "execution_count": null,
   "metadata": {
    "collapsed": true
   },
   "outputs": [],
   "source": []
  },
  {
   "cell_type": "markdown",
   "metadata": {},
   "source": [
    "# Citation\n",
    "ACT score statistics\n",
    "https://www.act.org/content/dam/act/unsecured/documents/cccr2017/ACT_2017-Average_Scores_by_State.pdf"
   ]
  }
 ],
 "metadata": {
  "kernelspec": {
   "display_name": "Python 3",
   "language": "python",
   "name": "python3"
  },
  "language_info": {
   "codemirror_mode": {
    "name": "ipython",
    "version": 3
   },
   "file_extension": ".py",
   "mimetype": "text/x-python",
   "name": "python",
   "nbconvert_exporter": "python",
   "pygments_lexer": "ipython3",
   "version": "3.5.2"
  }
 },
 "nbformat": 4,
 "nbformat_minor": 2
}
