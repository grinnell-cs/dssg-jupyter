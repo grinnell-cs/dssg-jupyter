{
 "cells": [
  {
   "cell_type": "markdown",
   "metadata": {},
   "source": [
    "# Welcome back, Data Scientists"
   ]
  },
  {
   "cell_type": "markdown",
   "metadata": {},
   "source": [
    "On your quest today you gathered data from 6 different locations on campus.\n",
    "\n",
    "You were sent to gather this data because Grinnell College is interested in where people choose to spend their time over the summer.\n",
    "\n",
    "**Input your findings into the variable declarations below. \n",
    "Designate one person as 1 and the other as 2 (for data consistency)**"
   ]
  },
  {
   "cell_type": "code",
   "execution_count": null,
   "metadata": {
    "collapsed": true
   },
   "outputs": [],
   "source": [
    "#Importing some packages for you\n",
    "import statistics as st\n",
    "import numpy as np\n",
    "import pandas as pd\n",
    "\n",
    "#Input your data here (Change the 0's to your data) ------------------------------------------\n",
    "\n",
    "#Bear (Gym)\n",
    "bearTemp1 = 0\n",
    "bearLL1 = 0\n",
    "bearPpl1 = 0\n",
    "\n",
    "bearTemp2 = 0\n",
    "bearLL2 = 0\n",
    "bearPpl2 = 0\n",
    "\n",
    "#Bucksbaum Rotunda (bca)\n",
    "bcaTemp1 = 0\n",
    "bcaLL1 = 0\n",
    "bcaPpl1 = 0\n",
    "\n",
    "bcaTemp2 = 0\n",
    "bcaLL2 = 0\n",
    "bcaPpl2 = 0\n",
    "\n",
    "#JRC (Above Spencer Grill)\n",
    "jrcTemp1 = 0\n",
    "jrcLL1 = 0\n",
    "jrcPpl1 = 0\n",
    "\n",
    "jrcTemp2 =0\n",
    "jrcLL2 = 0\n",
    "jrcPpl2 = 0\n",
    "\n",
    "#Burling Library\n",
    "libTemp1 = 0\n",
    "libLL1 = 0\n",
    "libPpl1 = 0\n",
    "\n",
    "libTemp2 = 0\n",
    "libLL2 = 0\n",
    "libPpl2 = 0\n",
    "\n",
    "#Gates-Rawson Archway (north)\n",
    "northTemp1 = 0\n",
    "northLL1 = 0\n",
    "northPpl1 = 0\n",
    "\n",
    "northTemp2 = 0\n",
    "northLL2 = 0\n",
    "northPpl2 = 0\n",
    "\n",
    "#Ceramics studio (south)\n",
    "southTemp1 = 0\n",
    "southLL1 = 0\n",
    "southPpl1 = 0\n",
    "\n",
    "southTemp2 = 0\n",
    "southLL2 = 0\n",
    "southPpl2 = 0\n",
    "\n"
   ]
  },
  {
   "cell_type": "markdown",
   "metadata": {},
   "source": [
    "This code will create 2 DataFrames of the data (1 per set of collected data)"
   ]
  },
  {
   "cell_type": "code",
   "execution_count": null,
   "metadata": {},
   "outputs": [],
   "source": [
    "#Here's are the labels for your DataFrames.\n",
    "rowLabels=[\"Bear\",\"Bucksbaum\", \"JRC\", \"Burling\", \"Gates-Rawson Arch\", \"Ceramic Studio\"]\n",
    "colLabels = [\"Temp\", \"LL\", \"NumPeople\"]\n",
    "\n",
    "#DataFrame for person 1's data\n",
    "data1 = np.array([[bearTemp1,bearLL1,bearPpl1],[bcaTemp1, bcaLL1, bearPpl1],[jrcTemp1, jrcLL1, jrcPpl1],[libTemp1, libLL1, libPpl1],[northTemp1, northLL1, northPpl1],[southTemp1, southLL1,southPpl1]])\n",
    "df1 = pd.DataFrame(data1, index=rowLabels,columns=colLabels)\n",
    "print (df1)\n",
    "\n",
    "print ()\n",
    "\n",
    "#DataFrame for person 1's data\n",
    "data2 = np.array([[bearTemp2,bearLL2,bearPpl2],[bcaTemp2, bcaLL2, bearPpl2],[jrcTemp2, jrcLL2, jrcPpl2],[libTemp2, libLL2, libPpl2],[northTemp2, northLL2, northPpl2],[southTemp2, southLL2,southPpl2]])\n",
    "df2 = pd.DataFrame(data2,index=rowLabels, columns=colLabels)\n",
    "print (df2)"
   ]
  },
  {
   "cell_type": "markdown",
   "metadata": {},
   "source": [
    "## Now that we have our data in our DataFrames, we can start looking at the numbers."
   ]
  },
  {
   "cell_type": "markdown",
   "metadata": {},
   "source": [
    "### Let's start with looking at the temperature data."
   ]
  },
  {
   "cell_type": "markdown",
   "metadata": {},
   "source": [
    "Write the code to print the average values for each column in the two DataFrames."
   ]
  },
  {
   "cell_type": "code",
   "execution_count": null,
   "metadata": {
    "collapsed": true
   },
   "outputs": [],
   "source": [
    "#Enter your code here"
   ]
  },
  {
   "cell_type": "markdown",
   "metadata": {},
   "source": [
    "Write the code to get the average temp for each location.\n",
    "Store the results of these conversions in another list called **avgTemps**\n"
   ]
  },
  {
   "cell_type": "code",
   "execution_count": null,
   "metadata": {
    "collapsed": true
   },
   "outputs": [],
   "source": [
    "#These are lists of the temp data from the two DataFrames\n",
    "tempData1 = df1.get(\"Temp\")\n",
    "tempData2 = df2.get(\"Temp\")\n",
    "\n",
    "#Enter your code here.\n"
   ]
  },
  {
   "cell_type": "markdown",
   "metadata": {},
   "source": [
    "Now we know that each of these temperatures is in degrees Celsius, but we generally use degrees Fahrenheit when we talk about temperature.\n",
    "\n",
    "Write the code to convert each of your average Celsius temperatures into degress Fahrenheit using \n",
    "The conversion is \n",
    "    (degrees Fahrenheit) = ((degrees Celsius) * 1.8) + 32.\n",
    "\n",
    "\n",
    "Use a list called **avgTempsF** to store these converted temperature values.  "
   ]
  },
  {
   "cell_type": "code",
   "execution_count": null,
   "metadata": {
    "collapsed": true
   },
   "outputs": [],
   "source": [
    "#Enter your code here."
   ]
  },
  {
   "cell_type": "markdown",
   "metadata": {},
   "source": [
    "### Now let's look at the light levels"
   ]
  },
  {
   "cell_type": "markdown",
   "metadata": {},
   "source": [
    "Using .get() (as we did above to get the temp data from the DataFrames), get the lists of light level data from the two DataFrames."
   ]
  },
  {
   "cell_type": "code",
   "execution_count": null,
   "metadata": {
    "collapsed": true
   },
   "outputs": [],
   "source": [
    "#Enter your code here"
   ]
  },
  {
   "cell_type": "markdown",
   "metadata": {},
   "source": [
    "Now, as we did before, find the average light levels for each location and store them in a list called **avgLL**"
   ]
  },
  {
   "cell_type": "code",
   "execution_count": null,
   "metadata": {
    "collapsed": true
   },
   "outputs": [],
   "source": [
    "#Enter your code here"
   ]
  },
  {
   "cell_type": "markdown",
   "metadata": {},
   "source": [
    "### Now let's look at the people data"
   ]
  },
  {
   "cell_type": "markdown",
   "metadata": {},
   "source": [
    "In the same way as we have done for the past two sets of data, get the NumPeople data from the two DataFrames as lists and create a list of the average number of people at each location (called **avgNumPeople**)."
   ]
  },
  {
   "cell_type": "code",
   "execution_count": null,
   "metadata": {
    "collapsed": true
   },
   "outputs": [],
   "source": [
    "#Enter your code here"
   ]
  },
  {
   "cell_type": "markdown",
   "metadata": {},
   "source": [
    "### Now that we have these values, let's start thinking about the problem at hand. \n",
    "\n",
    "#### First, Grinnell wants to know where people spend time.\n",
    "\n",
    "Write the code to create a list of the locations ordered by the number of people who spend time there from greatest to least.\n",
    "\n",
    "Print this list."
   ]
  },
  {
   "cell_type": "code",
   "execution_count": null,
   "metadata": {},
   "outputs": [],
   "source": [
    "#Creating a list of places associated with their number of people\n",
    "\n",
    "avgPplInLoc = [] \n",
    "#This is a list of lists of the format [[AvgNumPeople, Location], ... ,[AvgNumPeople, Location]]\n",
    "for n in range (0,len(avgNumPeople)):\n",
    "     avgPplInLoc.insert(n,[avgNumPeople[n], rowLabels[n]])\n",
    "#To access parts of this list, use avgPplInLoc[index of element in list][0 (location Name) or 1 (avgNumPeople)]\n",
    "\n",
    "#print (avgPplInLoc[0][1]) # This code prints \"Bear\" \n",
    "    \n",
    "#Enter your code here "
   ]
  },
  {
   "cell_type": "markdown",
   "metadata": {},
   "source": [
    "Now that you know where the people are, print those locations' associated temperatures and light levels."
   ]
  },
  {
   "cell_type": "code",
   "execution_count": null,
   "metadata": {
    "collapsed": true
   },
   "outputs": [],
   "source": [
    "#Enter your code here."
   ]
  },
  {
   "cell_type": "markdown",
   "metadata": {},
   "source": [
    "Based on your data, do more people hang out/study where there is more light or less light? Where it is warmer or colder? It is possible that there are no patterns."
   ]
  },
  {
   "cell_type": "markdown",
   "metadata": {},
   "source": [
    "Write your findings here:\n",
    "\n"
   ]
  },
  {
   "cell_type": "markdown",
   "metadata": {},
   "source": [
    "Suppose Grinnell College wanted to add an ice cream delivery service to its most popular outdoor spot. \n",
    "\n",
    "Based on your findings, where would you tell the college to send its ice cream delivery services?"
   ]
  },
  {
   "cell_type": "markdown",
   "metadata": {},
   "source": [
    "Write your answer here:"
   ]
  }
 ],
 "metadata": {
  "kernelspec": {
   "display_name": "Python 3",
   "language": "python",
   "name": "python3"
  },
  "language_info": {
   "codemirror_mode": {
    "name": "ipython",
    "version": 3
   },
   "file_extension": ".py",
   "mimetype": "text/x-python",
   "name": "python",
   "nbconvert_exporter": "python",
   "pygments_lexer": "ipython3",
   "version": "3.5.2"
  }
 },
 "nbformat": 4,
 "nbformat_minor": 2
}
