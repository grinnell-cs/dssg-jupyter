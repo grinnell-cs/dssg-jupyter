{
 "cells": [
  {
   "cell_type": "markdown",
   "metadata": {},
   "source": [
    "# Case Study: CPI... not Consumer Price Index\n",
    "\n",
    "### Read Below!\n",
    "\n",
    "**CPI** is an ancronym that stands for **Corruption Perceptions Index.** The CPI ranks countries \"by their perceived levels of corruption, as determined by expert assessments and opinion surveys.\" This ranking is based upon the idea of corruption as \"the misuse of public power for private benefit.\""
   ]
  },
  {
   "cell_type": "markdown",
   "metadata": {},
   "source": [
    "## Part 1: Let's Add Some Imports\n",
    "\n",
    "### Run the code below...\n",
    "\n",
    "If you read this text... add a comment to your code saying \"I read instructions\""
   ]
  },
  {
   "cell_type": "code",
   "execution_count": null,
   "metadata": {
    "collapsed": true
   },
   "outputs": [],
   "source": [
    "import pandas as pd\n",
    "import numpy as np\n",
    "import statistics as st\n",
    "import matplotlib\n",
    "%matplotlib inline\n",
    "matplotlib.style.use('ggplot')"
   ]
  },
  {
   "cell_type": "markdown",
   "metadata": {},
   "source": [
    "## Part 2: Let's read file data\n",
    "\n",
    "We have a file named `'cpiCaseStudyData.csv'` but it should be located in the `data` folder in your `dssg-jupyter` directory. Thus...\n",
    "\n",
    "### Create a variable called 'filename' containing the filepath '../Data/cpiCaseStudyData.csv'"
   ]
  },
  {
   "cell_type": "code",
   "execution_count": null,
   "metadata": {
    "collapsed": true
   },
   "outputs": [],
   "source": []
  },
  {
   "cell_type": "markdown",
   "metadata": {},
   "source": [
    "### Create a DataFrame called 'data' using the read_csv command and filename\n",
    "\n",
    "Check your \"Working with DataFrames\" reference sheet if you are having trouble!"
   ]
  },
  {
   "cell_type": "code",
   "execution_count": null,
   "metadata": {
    "collapsed": true
   },
   "outputs": [],
   "source": []
  },
  {
   "cell_type": "markdown",
   "metadata": {},
   "source": [
    "### Display your DataFrame \n",
    "\n",
    "This DataFrame is very long... so we don't display all of the values when we print it. "
   ]
  },
  {
   "cell_type": "code",
   "execution_count": null,
   "metadata": {
    "collapsed": true
   },
   "outputs": [],
   "source": []
  },
  {
   "cell_type": "markdown",
   "metadata": {},
   "source": [
    "### What years are included in the data set?"
   ]
  },
  {
   "cell_type": "markdown",
   "metadata": {},
   "source": []
  },
  {
   "cell_type": "markdown",
   "metadata": {},
   "source": [
    "### What is the largest recorded cpi in 1998? Which jurisdiction/country has this cpi?"
   ]
  },
  {
   "cell_type": "markdown",
   "metadata": {},
   "source": []
  },
  {
   "cell_type": "markdown",
   "metadata": {},
   "source": [
    "### What is the larest recorded cpi in 2015? Which jurisdiction/country has this cpi?"
   ]
  },
  {
   "cell_type": "markdown",
   "metadata": {},
   "source": []
  },
  {
   "cell_type": "markdown",
   "metadata": {},
   "source": [
    "## Part 3: There's this Code...\n",
    "\n",
    "### Subsection 3.1 Run the Code Below..."
   ]
  },
  {
   "cell_type": "code",
   "execution_count": null,
   "metadata": {
    "collapsed": true
   },
   "outputs": [],
   "source": [
    "data.index = data['Jurisdiction']",
    "\n",
    "# This procedure takes a DataFrame df and a str year and returns a new Dataframe ret\n",
    "# The rows in df that had a blank entry in the year column are absent from ret\n",
    "def trimNaByYear(df, year):\n",
    "    ret = df\n",
    "    for index in range(len(df[year])):\n",
    "        cur = df[year][index]\n",
    "        if(cur == '-'):\n",
    "            ret = ret.drop(df['Jurisdiction'][index])\n",
    "    return ret\n",
    "\n",
    "# This procedure takes a Dataframe df, a str year, and two numeric types lowestRank and highestRank\n",
    "# The rows in df whose entries were lower than lowestRank and higher than highestRank are absent from ret\n",
    "def trimRankingsByYear(df, year, lowestRank, highestRank):\n",
    "    ret = df\n",
    "    for index in range(len(df[year])):\n",
    "        cur = float(df[year][index])\n",
    "        if(cur < lowestRank or cur > highestRank):\n",
    "            ret = ret.drop(df['Jurisdiction'][index])\n",
    "    return ret\n",
    "\n",
    "# This procedure takes a str year and displays two sorted bar graphs\n",
    "# The bar graphs displayed contain the cpi rankings of Jurisdictions for the given year\n",
    "# One graph shows the rankings between zero and the median of the recorded values of the given year\n",
    "# The other graph shows the remaning rankings of the given year\n",
    "def cpiBarByYearSorted(year):\n",
    "    dfTrimmedNa = trimNaByYear(data, year)\n",
    "    dfTrimmedNa[year] = dfTrimmedNa[year].astype(float)\n",
    "    trimmedMed = st.median(dfTrimmedNa[year])\n",
    "    dfTrimmedSorted = dfTrimmedNa.sort_values(year, ascending=True)\n",
    "    trimRankingsByYear(dfTrimmedSorted, year, 0, trimmedMed).plot.bar(figsize=(20,10))\n",
    "    trimRankingsByYear(dfTrimmedSorted, year, trimmedMed, max(dfTrimmedNa[year]) + 1).plot.bar(figsize=(20,10))"
   ]
  },
  {
   "cell_type": "markdown",
   "metadata": {},
   "source": [
    "### Let's use the code above to explore our data\n",
    "\n",
    "**Run the Code below...** "
   ]
  },
  {
   "cell_type": "code",
   "execution_count": null,
   "metadata": {
    "collapsed": true
   },
   "outputs": [],
   "source": [
    "cpiBarByYearSorted('2010')"
   ]
  },
  {
   "cell_type": "markdown",
   "metadata": {},
   "source": [
    "### Discuss the following with your partner.... \n",
    "\n",
    "- **What did the code do?**\n",
    "- **What do the graphs show?** \n",
    "- **Is it better to have a smaller or bigger cpi?**\n",
    "- **Which country was the most corrupt in 2010?**\n",
    "\n",
    "### Could you use the procedure above to look at cpi rankings from 2015?\n",
    "\n",
    "Write code below to display bar graphs displaying the cpi rankings from 2015. "
   ]
  },
  {
   "cell_type": "code",
   "execution_count": null,
   "metadata": {
    "collapsed": true
   },
   "outputs": [],
   "source": []
  },
  {
   "cell_type": "markdown",
   "metadata": {},
   "source": [
    "### Optional Extension Questions:\n",
    "\n",
    "- **Are cpi rankings smaller or bigger in more recent years?**\n",
    "- **Are there more ranked countries in 2014 or 2015?**"
   ]
  },
  {
   "cell_type": "markdown",
   "metadata": {},
   "source": [
    "### Subsection 3.2 Run the code below..."
   ]
  },
  {
   "cell_type": "code",
   "execution_count": null,
   "metadata": {
    "collapsed": true
   },
   "outputs": [],
   "source": [
    "# This procedure takes two str year1 and year2 and displays two sorted bar graphs\n",
    "# The bar graphs displayed contain the cpi rankings of Jurisdictions for the given year\n",
    "# One graph shows the rankings between zero and the median of the recorded values of the given year\n",
    "# The other graph shows the remaining rankings of the given year\n",
    "def cpiBarComparison(year1, year2):\n",
    "    dfTrimmedNa = trimNaByYear(trimNaByYear(data, year1), year2)\n",
    "    dfTrimmedNa[year1] = dfTrimmedNa[year1].astype(float)\n",
    "    dfTrimmedNa[year2] = dfTrimmedNa[year2].astype(float)\n",
    "    trimmedMed = st.median(dfTrimmedNa[year1])\n",
    "    dfTrimmedSorted = dfTrimmedNa.sort_values(year1, ascending=True)\n",
    "    trimRankingsByYear(dfTrimmedSorted, year1, 0, trimmedMed).plot.bar(figsize=(20,5))\n",
    "    trimRankingsByYear(dfTrimmedSorted, year1, trimmedMed, max(dfTrimmedNa[year1]) + 1).plot.bar(figsize=(20,10))"
   ]
  },
  {
   "cell_type": "markdown",
   "metadata": {},
   "source": [
    "### Let's use the code above to learn more about our data!\n",
    "\n",
    "**Run the code below...**"
   ]
  },
  {
   "cell_type": "code",
   "execution_count": null,
   "metadata": {
    "collapsed": true
   },
   "outputs": [],
   "source": [
    "cpiBarComparison('2003', '2013')"
   ]
  },
  {
   "cell_type": "markdown",
   "metadata": {},
   "source": [
    "### Discuss with your partner...\n",
    "\n",
    "- **Why display two years of data side by side?**\n",
    "- **What changed from 2003 to 2013?**\n",
    "\n",
    "### Display a bar graph with data from 2014 and 2015\n",
    "\n",
    "Write your code below."
   ]
  },
  {
   "cell_type": "code",
   "execution_count": null,
   "metadata": {
    "collapsed": true
   },
   "outputs": [],
   "source": []
  },
  {
   "cell_type": "markdown",
   "metadata": {},
   "source": [
    "### Do your graphs change if you change the order of parameters in your code?\n",
    "\n",
    "**Display a bar graph with data from 2015 and 2014** to find out"
   ]
  },
  {
   "cell_type": "code",
   "execution_count": null,
   "metadata": {
    "collapsed": true
   },
   "outputs": [],
   "source": []
  },
  {
   "cell_type": "markdown",
   "metadata": {},
   "source": [
    "### Subsection 3.3 Run the code below..."
   ]
  },
  {
   "cell_type": "code",
   "execution_count": null,
   "metadata": {
    "collapsed": true
   },
   "outputs": [],
   "source": [
    "# HELPFUL LIST: used for identifying the availiable years in our data\n",
    "years = [1998, 1999, 2000, 2001, 2002, 2003, 2004, 2005, 2006, 2007, 2008, 2009, 2010, 2011, 2012, 2013, 2014, 2015]\n",
    "\n",
    "# This procedure takes a list jurisdictionLst\n",
    "# All '-' elements are removed from the list and all values are casted to floats\n",
    "def dfByJurisdictionToFlt(jurisdictionLst):\n",
    "    for index in range(len(jurisdictionLst)):\n",
    "        if(jurisdictionLst[index] == '-'):\n",
    "            jurisdictionLst[index] = 0.0\n",
    "        else:\n",
    "            jurisdictionLst[index] = float(jurisdictionLst[index])\n",
    "    return jurisdictionLst\n",
    "\n",
    "# This procedure takes a str jurisdiction and displays a bar graph\n",
    "# The bar graph displays the availaible cpi rankings of jurisdiction\n",
    "def cpiBarByJurisdiction(jurisdiction):\n",
    "    countrycpi = data.loc[jurisdiction].tolist()[1:] # the [1:] text removes the first element of the list\n",
    "    countrycpiflt = dfByJurisdictionToFlt(countrycpi)\n",
    "    pd.DataFrame(index=years, data={'cpi': countrycpiflt}).plot.bar(figsize=(20,5))"
   ]
  },
  {
   "cell_type": "markdown",
   "metadata": {},
   "source": [
    "### Let's use the code above to look at each jurisdiction/country separately\n",
    "\n",
    "**Run the code below...**"
   ]
  },
  {
   "cell_type": "code",
   "execution_count": null,
   "metadata": {
    "collapsed": true
   },
   "outputs": [],
   "source": [
    "cpiBarByJurisdiction('China')"
   ]
  },
  {
   "cell_type": "markdown",
   "metadata": {},
   "source": [
    "### How would you write code to display the cpi for Russia?\n",
    "\n",
    "Write your code below.\n",
    "\n",
    "*Hint: Look at the code above*"
   ]
  },
  {
   "cell_type": "code",
   "execution_count": null,
   "metadata": {
    "collapsed": true
   },
   "outputs": [],
   "source": []
  },
  {
   "cell_type": "markdown",
   "metadata": {},
   "source": [
    "### Subsection 3.4 Run the code below..."
   ]
  },
  {
   "cell_type": "code",
   "execution_count": null,
   "metadata": {
    "collapsed": true
   },
   "outputs": [],
   "source": [
    "# This procedure returns a list of the highest cpi for each year of recorded data\n",
    "def calculateHighestCpiByYear():\n",
    "    cols = list(data.columns)[1:]\n",
    "    cpiMaxes = []\n",
    "    for col in cols:\n",
    "        cpiMaxes.append(float(max(data[col].tolist())))\n",
    "    return cpiMaxes\n",
    "\n",
    "# HELPFUL LIST: used for calculating relative rankings by year\n",
    "highestCpiByYear = calculateHighestCpiByYear()\n",
    "\n",
    "# This procedure takes a str jurisdiction and displays a bar graph\n",
    "# The bar graph displays the available cpi rankings of jurisdiction out of 1.0\n",
    "# A low value shows a low ranking compared to available data\n",
    "# A similar statement can be made about a high ranking\n",
    "def cpiAvgBarByJurisdiction(jurisdiction):\n",
    "    countrycpi = data.loc[jurisdiction].tolist()[1:] # the [1:] text removes the first element of the list\n",
    "    countrycpiflt = dfByJurisdictionToFlt(countrycpi)\n",
    "    avgCountryCpi = np.divide(countrycpiflt, highestCpiByYear)\n",
    "    pd.DataFrame(index=years, data={'cpi': avgCountryCpi}).plot.bar(figsize=(20,5))"
   ]
  },
  {
   "cell_type": "markdown",
   "metadata": {},
   "source": [
    "### Let's look how corrupt each jurisdiction/country is compared to the rest of the recorded jurisdictions/countries\n",
    "\n",
    "**Run the code below...**"
   ]
  },
  {
   "cell_type": "code",
   "execution_count": null,
   "metadata": {
    "collapsed": true
   },
   "outputs": [],
   "source": [
    "cpiAvgBarByJurisdiction('China')"
   ]
  },
  {
   "cell_type": "markdown",
   "metadata": {},
   "source": [
    "### Discuss... \n",
    "\n",
    "- **Is the graph produced by this code is different from the previous graph we made for China?**\n",
    "- **If yes, how is it different?**\n",
    "\n",
    "Be prepared to share your answers with a counselor.\n",
    "\n",
    "### Run the code below..."
   ]
  },
  {
   "cell_type": "code",
   "execution_count": null,
   "metadata": {
    "collapsed": true
   },
   "outputs": [],
   "source": [
    "cpiAvgBarByJurisdiction('United States')"
   ]
  },
  {
   "cell_type": "markdown",
   "metadata": {},
   "source": [
    "### Let's figure out what this data shows us.\n",
    "\n",
    "- **The y-axis has values fromm 0.0 to 0.1.**\n",
    "- **A value closer to 0 has a corresponding cpi that is lower than the rest of the recorded cpi's for that year**\n",
    "- **A value closer to 1 has a corresponding cpi that is higher than the rest of the recorded cpi's for that year**\n"
   ]
  },
  {
   "cell_type": "markdown",
   "metadata": {},
   "source": [
    "### From the text above...\n",
    "\n",
    "### Is the US percieved as more or less corrupt than other countries?\n",
    "\n",
    "Write your answer below."
   ]
  },
  {
   "cell_type": "markdown",
   "metadata": {},
   "source": []
  },
  {
   "cell_type": "markdown",
   "metadata": {},
   "source": [
    "## Part 4: Exploring the Data\n",
    "\n",
    "Let's see what we can find."
   ]
  },
  {
   "cell_type": "code",
   "execution_count": null,
   "metadata": {
    "collapsed": true
   },
   "outputs": [],
   "source": [
    "# Space for exploration"
   ]
  },
  {
   "cell_type": "markdown",
   "metadata": {},
   "source": [
    "### Here are some example questions...\n",
    "\n",
    "- **What is the lowest cpi ranking in 2015?**\n",
    "- **What is the highest cpi ranking in 2015?**\n",
    "- **Which Jurisdictions consistently have the highest or lowest rankings?**\n",
    "- **Which Jurisdiction has the mean cpi? What does it mean to have the \"mean cpi\"?**\n",
    "\n",
    "### See a trend... Want to know why it exists? Google it! \n",
    "\n",
    "Alternatively you could ask a counselor..."
   ]
  },
  {
   "cell_type": "code",
   "execution_count": null,
   "metadata": {
    "collapsed": true
   },
   "outputs": [],
   "source": [
    "# More space for exploration"
   ]
  },
  {
   "cell_type": "markdown",
   "metadata": {},
   "source": [
    "## Extension: Whatzitdo?\n",
    "\n",
    "Find out what the following code does..."
   ]
  },
  {
   "cell_type": "code",
   "execution_count": null,
   "metadata": {
    "collapsed": true
   },
   "outputs": [],
   "source": [
    "def arbitrary(lsty):\n",
    "    for burger in range(len(lsty)):\n",
    "        if(lsty[burger] == '-'):\n",
    "            lsty[burger] = 0.0\n",
    "        else:\n",
    "            lsty[burger] = float(lsty[burger])\n",
    "    return lsty"
   ]
  },
  {
   "cell_type": "markdown",
   "metadata": {},
   "source": [
    "**Hint: try running the code on some inputs to see what it takes**\n",
    "\n",
    "*Example:*  \n",
    "    input = ['2', '3', '-']  \n",
    "    print(arbitrary(input))  "
   ]
  },
  {
   "cell_type": "code",
   "execution_count": null,
   "metadata": {
    "collapsed": true
   },
   "outputs": [],
   "source": []
  }
 ],
 "metadata": {
  "kernelspec": {
   "display_name": "Python 3",
   "language": "python",
   "name": "python3"
  },
  "language_info": {
   "codemirror_mode": {
    "name": "ipython",
    "version": 3
   },
   "file_extension": ".py",
   "mimetype": "text/x-python",
   "name": "python",
   "nbconvert_exporter": "python",
   "pygments_lexer": "ipython3",
   "version": "3.5.2"
  }
 },
 "nbformat": 4,
 "nbformat_minor": 2
}
