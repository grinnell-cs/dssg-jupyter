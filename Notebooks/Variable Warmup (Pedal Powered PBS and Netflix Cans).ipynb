{
 "cells": [
  {
   "cell_type": "markdown",
   "metadata": {},
   "source": [
    "# Review of Variables"
   ]
  },
  {
   "cell_type": "code",
   "execution_count": 17,
   "metadata": {},
   "outputs": [
    {
     "name": "stdout",
     "output_type": "stream",
     "text": [
      "x is \n",
      "1\n",
      "June\n",
      "x is 1\n",
      "It is June 2018\n",
      "y is 3\n",
      "z is 0\n",
      "z is 0\n",
      "x is  2\n",
      "z is 4\n",
      "z is now 5\n",
      "y is now 2\n"
     ]
    }
   ],
   "source": [
    "#The text behind the '#' is a comment and will not be run with the program. It is for making notes in the code."
   ]
  },
  {
   "cell_type": "code",
   "execution_count": 34,
   "metadata": {
    "collapsed": true
   },
   "outputs": [],
   "source": [
    "#Creating variables---------------------\n",
    "x = 1\n",
    "y = 3\n",
    "z = 0\n",
    "month = \"June\" # \"June\" is a string variable\n",
    "year = 2018"
   ]
  },
  {
   "cell_type": "code",
   "execution_count": 35,
   "metadata": {},
   "outputs": [
    {
     "name": "stdout",
     "output_type": "stream",
     "text": [
      "x is \n",
      "1\n",
      "June\n",
      "x is 1\n",
      "It is June 2018\n",
      "y is 3\n",
      "z is 0\n"
     ]
    }
   ],
   "source": [
    "#The print() function -----------------\n",
    "print (\"x is \") #This is how you print text (A string)\n",
    "print (x) # This is how you print a variable\n",
    "print (month) #You can also print string variables this way\n",
    "\n",
    "print (\"x is\",x) # This is how you print text and a number in the same line\n",
    "print (\"It is\",month, year) # You can also string variables with number variables\n",
    "\n",
    "print (\"y is\", y)\n",
    "print (\"z is\", z)\n"
   ]
  },
  {
   "cell_type": "markdown",
   "metadata": {},
   "source": [
    "### Math with Variables"
   ]
  },
  {
   "cell_type": "code",
   "execution_count": 36,
   "metadata": {},
   "outputs": [
    {
     "name": "stdout",
     "output_type": "stream",
     "text": [
      "z is 0\n",
      "x is  2\n",
      "z is 4\n",
      "z is now 5\n",
      "y is now 2\n"
     ]
    }
   ],
   "source": [
    "#We can do addition and subtraction\n",
    "print (\"z is\", z)\n",
    "z = x+y\n",
    "x += 1 # This is the same as saying x = x+1\n",
    "print (\"x is \",x)\n",
    "print (\"z is\",z) #z does not update on its own when we change the value of x\n",
    "z = x+y #Update z\n",
    "print (\"z is now\",z) #Since we updated z in the last line, z is different\n",
    "\n",
    "y-=1 # this is the same as writing y = y-1\n",
    "print (\"y is now\", y)"
   ]
  },
  {
   "cell_type": "code",
   "execution_count": 40,
   "metadata": {},
   "outputs": [
    {
     "name": "stdout",
     "output_type": "stream",
     "text": [
      "x is now 4.0\n",
      "y is now 1.25\n",
      "z is still 5\n"
     ]
    }
   ],
   "source": [
    "#We can do mulitplication and division too\n",
    "x = x*2\n",
    "print (\"x is now\",x)\n",
    "y = z/4\n",
    "print (\"y is now\", y)\n",
    "print (\"z is still\", z)"
   ]
  },
  {
   "cell_type": "markdown",
   "metadata": {},
   "source": [
    "### Conditionals"
   ]
  },
  {
   "cell_type": "code",
   "execution_count": 53,
   "metadata": {},
   "outputs": [
    {
     "name": "stdout",
     "output_type": "stream",
     "text": [
      "isCool>0 is True\n",
      "codeCamp == isCool is True\n",
      "isCool<isNotCool is False\n",
      "\n",
      "Is a>=0 True\n",
      "Is b<= 1 False\n",
      "Is b != c True\n",
      "\n",
      "This is the result of an if else statment\n",
      "Code Camp is cool!\n",
      "\n",
      "This is the result of the if elif else statement\n",
      "Code Camp is cool!\n"
     ]
    }
   ],
   "source": [
    "# We can write if-else statements with variables\n",
    "\n",
    "isCool = 1\n",
    "codeCamp = 1\n",
    "isNotCool = 0\n",
    "\n",
    "#We can compare variables\n",
    "\n",
    "print (\"isCool>0 is\",isCool>0) #Is isCool is greater than 0?\n",
    "print (\"codeCamp == isCool is\",codeCamp == isCool) # Are codeCamp and isCool equal?\n",
    "print(\"isCool<isNotCool is\",isCool<isNotCool) #Is isCool less than isNotCool?\n",
    "\n",
    "print ()\n",
    "a = 1 \n",
    "b = 2\n",
    "c = 3\n",
    "print (\"Is a>=0\", a>=0) # is a greater than or equal to 0?\n",
    "print (\"Is b<= 1\", b<=1) # is b less tahn or equal to 1?\n",
    "print (\"Is b != c\", b!=c) #is b NOT equal to c?\n",
    "\n",
    "\n",
    "print ()# This prints a blank line\n",
    "#If else statements\n",
    "print (\"This is the result of an if else statment\")\n",
    "if codeCamp == isCool:\n",
    "    print (\"Code Camp is cool!\")\n",
    "else:\n",
    "    print (\"Code camp is not cool...)\")\n",
    "print ()\n",
    "#if elif else statements (2 ifs and an else)\n",
    "print (\"This is the result of the if elif else statement\")\n",
    "if codeCamp < isCool:\n",
    "    print (\"Code Camp is cool!\")\n",
    "elif codeCamp > isNotCool:\n",
    "    print (\"Code Camp is cool!\")\n",
    "else:\n",
    "    print (\"Code camp is not cool...)\")"
   ]
  },
  {
   "cell_type": "markdown",
   "metadata": {},
   "source": [
    "## Pedal Powered PBS\n",
    "\n",
    "Dolley was doing a worksheet in her math class, and one of the word problems said that someone created a way to charge a battery to provide power to a small TV set. Dolley, being a scientist, didn’t immediately believe this was possible. She set out to prove this was true. Dolley got the help of her best friend Michelle, and together, the two of them built a pedal powered TV set. After getting the battery to  Through trial and error, they discovered that with their setup about 1 hour of pedaling produced enough charge to power the TV for 30 minutes.\n",
    "\n"
   ]
  },
  {
   "cell_type": "markdown",
   "metadata": {},
   "source": [
    "Write an expression that can compute the amount of minutes the TV can run when given an arbitrary number of hours pedaled using the variables **hours** and **chargeMins**. "
   ]
  },
  {
   "cell_type": "code",
   "execution_count": null,
   "metadata": {
    "collapsed": true
   },
   "outputs": [],
   "source": [
    "#Enter your code here"
   ]
  },
  {
   "cell_type": "markdown",
   "metadata": {},
   "source": [
    "Dolley pedals for 3 hours while she does her homework."
   ]
  },
  {
   "cell_type": "markdown",
   "metadata": {},
   "source": [
    "Print how many minutes can Dolley can watch TV that day as a reward."
   ]
  },
  {
   "cell_type": "code",
   "execution_count": null,
   "metadata": {
    "collapsed": true
   },
   "outputs": [],
   "source": [
    "#Enter your code here"
   ]
  },
  {
   "cell_type": "markdown",
   "metadata": {},
   "source": [
    "Dolley knows that one episode of her favorite show runs for 1 hour. She also knows she should only watch 2 episodes of the show each night if she wants to get enough sleep to ace her classes. She pedaled for 1 hour before school. (Her battery has 1 hour of pedal time’s charge left on it.) \n"
   ]
  },
  {
   "cell_type": "markdown",
   "metadata": {},
   "source": [
    "Create a variable called **chargeLeft** to hold how much charge the battery has left. \n",
    "Create a variable called **timeNeeded** to calculate how much pedal time she still needs to watch her TV programs."
   ]
  },
  {
   "cell_type": "code",
   "execution_count": null,
   "metadata": {
    "collapsed": true
   },
   "outputs": [],
   "source": [
    "# Enter your code here."
   ]
  },
  {
   "cell_type": "markdown",
   "metadata": {},
   "source": [
    "Michelle is coming over at 8pm for a sleepover, and the two girls want to spend the night watching their favorite movies. Dolley’s favorite movie is Magnificent Doll which is 95 minutes long and Michelle’s favorite is Inside Out which is also 95 minutes long. Dolley has been excited for this sleepover all day so she pedaled for 2 hours before she cleaned her room."
   ]
  },
  {
   "cell_type": "markdown",
   "metadata": {},
   "source": [
    "Update the variable **chargeLeft** to the amount of charge the battery has now."
   ]
  },
  {
   "cell_type": "code",
   "execution_count": null,
   "metadata": {
    "collapsed": true
   },
   "outputs": [],
   "source": [
    "#Enter your code here"
   ]
  },
  {
   "cell_type": "markdown",
   "metadata": {},
   "source": [
    "Create variable called **neededPedalTime** to calculate how much more Dolley needs to pedal so she and Michelle can watch both movies while relaxing on the couch and sharing a bowl of popcorn."
   ]
  },
  {
   "cell_type": "code",
   "execution_count": null,
   "metadata": {
    "collapsed": true
   },
   "outputs": [],
   "source": [
    "#Enter your code here"
   ]
  },
  {
   "cell_type": "markdown",
   "metadata": {},
   "source": [
    "Write a conditional that will print “No more pedal time needed” if neededPedalTime is less than or equal to ( <= ) 0 or else print how much pedal time is needed so Dolley can spend time with her friend."
   ]
  },
  {
   "cell_type": "code",
   "execution_count": null,
   "metadata": {
    "collapsed": true
   },
   "outputs": [],
   "source": [
    "#Enter your code here"
   ]
  },
  {
   "cell_type": "markdown",
   "metadata": {},
   "source": [
    "Dolley finishes her other chores at 3pm."
   ]
  },
  {
   "cell_type": "markdown",
   "metadata": {},
   "source": [
    "Write a conditional that will print “Popcorn time” if Dolley will be able to finish pedaling before Michelle arrives at 8pm."
   ]
  },
  {
   "cell_type": "code",
   "execution_count": null,
   "metadata": {
    "collapsed": true
   },
   "outputs": [],
   "source": [
    "#Enter your code here"
   ]
  },
  {
   "cell_type": "markdown",
   "metadata": {},
   "source": [
    "Dolley and Michelle fall asleep after having watched both movies and finished several large bowls of popcorn."
   ]
  },
  {
   "cell_type": "markdown",
   "metadata": {},
   "source": [
    "While the numbers in this story are fictional, the idea of a pedal powered TV set is not. You can find out more [here](http://pedalpowergenerator.com/)"
   ]
  },
  {
   "cell_type": "markdown",
   "metadata": {},
   "source": [
    "### If you finish Pedal Powered PBS early work on this\n",
    "## *Can* You Watch This?"
   ]
  },
  {
   "cell_type": "markdown",
   "metadata": {},
   "source": [
    "Recycling an aluminum can rather than throwing it away in the trash can save \n",
    "enough energy to power a television for 3 hours. "
   ]
  },
  {
   "cell_type": "markdown",
   "metadata": {},
   "source": [
    "Create the variables **cans** and **hoursEnergySaved** and write an expression in code that can compute the hours of energy saved when given an arbitrary number for **cans**."
   ]
  },
  {
   "cell_type": "code",
   "execution_count": null,
   "metadata": {
    "collapsed": true
   },
   "outputs": [],
   "source": [
    "#Enter your code here"
   ]
  },
  {
   "cell_type": "markdown",
   "metadata": {},
   "source": [
    "How many hours of energy are saved by recycling 120,000 cans (the average number of cans recycled every minute nationwide)?"
   ]
  },
  {
   "cell_type": "code",
   "execution_count": null,
   "metadata": {
    "collapsed": true
   },
   "outputs": [],
   "source": [
    "#Enter your code here"
   ]
  },
  {
   "cell_type": "markdown",
   "metadata": {},
   "source": [
    "The amount of waste in the world is expected to double in less than 15 years. "
   ]
  },
  {
   "cell_type": "markdown",
   "metadata": {},
   "source": [
    "Double the number of cans from the previous example. How many hours of energy are saved by recycling this number of cans?"
   ]
  },
  {
   "cell_type": "code",
   "execution_count": null,
   "metadata": {
    "collapsed": true
   },
   "outputs": [],
   "source": [
    "#Enter your code here"
   ]
  },
  {
   "cell_type": "markdown",
   "metadata": {},
   "source": [
    "Create a (well-named) variable to calculate how many times you could watch the entirety of Netflix (estimated 34,739 hours) in the amount of time saved by the number of cans that are recycled nationwide every 5 minutes (remember, we recycle 120000 cans each minute)"
   ]
  },
  {
   "cell_type": "code",
   "execution_count": null,
   "metadata": {
    "collapsed": true
   },
   "outputs": [],
   "source": [
    "#Enter your code here"
   ]
  },
  {
   "cell_type": "markdown",
   "metadata": {},
   "source": [
    "Write a conditional that will print  “Everyone at this camp can watch Netflix” if the number of times that it takes to watch the entirety of Netflix is greater than 50."
   ]
  },
  {
   "cell_type": "code",
   "execution_count": null,
   "metadata": {
    "collapsed": true
   },
   "outputs": [],
   "source": [
    "#Enter your code here"
   ]
  }
 ],
 "metadata": {
  "kernelspec": {
   "display_name": "Python 3",
   "language": "python",
   "name": "python3"
  },
  "language_info": {
   "codemirror_mode": {
    "name": "ipython",
    "version": 3
   },
   "file_extension": ".py",
   "mimetype": "text/x-python",
   "name": "python",
   "nbconvert_exporter": "python",
   "pygments_lexer": "ipython3",
   "version": "3.5.2"
  }
 },
 "nbformat": 4,
 "nbformat_minor": 2
}
