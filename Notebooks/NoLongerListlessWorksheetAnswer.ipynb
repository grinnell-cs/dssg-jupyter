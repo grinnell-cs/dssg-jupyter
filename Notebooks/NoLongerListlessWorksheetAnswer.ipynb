{
 "cells": [
  {
   "cell_type": "markdown",
   "metadata": {},
   "source": [
    "# We Are No Longer Listless!\n",
    "## Remember to run the program.\n",
    "Select the cell, and hit **Ctrl+Enter** to run the program.\n",
    "Or you can click Cell then click Run Cell. \n",
    "\n",
    "## Do not forget to save your program! \n",
    "There are two ways to do this, you can either: \n",
    "1. Hit **Ctrl+S** \n",
    "2. Or click File then click Save and Checkpoint \n"
   ]
  },
  {
   "cell_type": "markdown",
   "metadata": {},
   "source": [
    "## Part 1: Create List \n",
    "Let's make list of our favorite numbers. "
   ]
  },
  {
   "cell_type": "code",
   "execution_count": 1,
   "metadata": {},
   "outputs": [
    {
     "name": "stdout",
     "output_type": "stream",
     "text": [
      "[19, 7, 36, 5, 23]\n"
     ]
    }
   ],
   "source": [
    "# Name the list \"favNums\"\n",
    "# Declare the list first!\n",
    "favNums = []\n",
    "favNums.append(19)\n",
    "favNums.append(7)\n",
    "favNums.append(36)\n",
    "favNums.append(5)\n",
    "favNums.append(23)\n",
    "print(favNums)\n",
    "\n",
    "# Or put element while declaring\n",
    "favNums = [19,7,36,5,23]"
   ]
  },
  {
   "cell_type": "markdown",
   "metadata": {},
   "source": [
    "Use fib.append() to build fib"
   ]
  },
  {
   "cell_type": "code",
   "execution_count": 2,
   "metadata": {
    "collapsed": true
   },
   "outputs": [],
   "source": [
    "# Answer\n",
    "fib = []\n",
    "fib.append(0)\n",
    "fib.append(1)\n",
    "fib.append(1)\n",
    "fib.append(2)\n",
    "\n",
    "fib = [0,1,1,2]"
   ]
  },
  {
   "cell_type": "markdown",
   "metadata": {},
   "source": [
    "How can we print the list? Do you remember how to print \"Hello World!\"?"
   ]
  },
  {
   "cell_type": "code",
   "execution_count": 3,
   "metadata": {},
   "outputs": [
    {
     "name": "stdout",
     "output_type": "stream",
     "text": [
      "Hello World!\n"
     ]
    }
   ],
   "source": [
    "# Print \"Hello World!\"\n",
    "print (\"Hello World!\")"
   ]
  },
  {
   "cell_type": "markdown",
   "metadata": {},
   "source": [
    "Let's put the name of list in the place of \"Hello World!\""
   ]
  },
  {
   "cell_type": "code",
   "execution_count": 4,
   "metadata": {},
   "outputs": [
    {
     "name": "stdout",
     "output_type": "stream",
     "text": [
      "[0, 1, 1, 2]\n"
     ]
    }
   ],
   "source": [
    "# Answer\n",
    "print (fib)"
   ]
  },
  {
   "cell_type": "markdown",
   "metadata": {},
   "source": [
    "How can we declare the list? Let's make list \"time\" and print!"
   ]
  },
  {
   "cell_type": "code",
   "execution_count": 5,
   "metadata": {},
   "outputs": [
    {
     "name": "stdout",
     "output_type": "stream",
     "text": [
      "['m', 'o', 'r', 'n', 'i', 'n', 'g']\n"
     ]
    }
   ],
   "source": [
    "# Answer\n",
    "time = [\"m\",\"o\",\"r\",\"n\",\"i\",\"n\",\"g\"]\n",
    "print (time)"
   ]
  },
  {
   "cell_type": "markdown",
   "metadata": {},
   "source": [
    "### Extension:\n",
    "Can we store different data types in the same list? Try camp = [“Data”, “Science”, 2018, True]."
   ]
  },
  {
   "cell_type": "code",
   "execution_count": 6,
   "metadata": {
    "collapsed": true
   },
   "outputs": [],
   "source": [
    "camp = [\"Data\", \"Science\", 2018, True]"
   ]
  },
  {
   "cell_type": "markdown",
   "metadata": {
    "collapsed": true
   },
   "source": [
    "### Make the user build the list!\n",
    "**Remember** We can use list.append() to add elements\n"
   ]
  },
  {
   "cell_type": "code",
   "execution_count": 7,
   "metadata": {},
   "outputs": [
    {
     "name": "stdout",
     "output_type": "stream",
     "text": [
      "What time is it?11\n",
      "What day is today?(ex Monday)Sunday\n"
     ]
    }
   ],
   "source": [
    "now = []\n",
    "user_time = input(\"What time is it?\")\n",
    "now.append(user_time)\n",
    "# Answer\n",
    "user_day = input(\"What day is today?(ex Monday)\")\n",
    "now.append(user_day)"
   ]
  },
  {
   "cell_type": "markdown",
   "metadata": {},
   "source": [
    "Make something interesting!"
   ]
  },
  {
   "cell_type": "code",
   "execution_count": null,
   "metadata": {
    "collapsed": true
   },
   "outputs": [],
   "source": [
    "# Sample Answer\n",
    "introduceMyself = []\n",
    "name = input(\"What is your name?\")\n",
    "introduceMyself.append(name)\n",
    "age = input(\"How old are you?\")\n",
    "introduceMyself.append(age)\n",
    "socialGood = input(\"Which social justice issue are you interested?\")\n",
    "introduceMyself.append(socialGood)"
   ]
  },
  {
   "cell_type": "markdown",
   "metadata": {},
   "source": [
    "### How about list as element of list?\n",
    "How can we make a list of Stella's camper group?\n",
    "In Stella's group, there are Aaron, Freya, Kaetlyn, Tristan."
   ]
  },
  {
   "cell_type": "code",
   "execution_count": 8,
   "metadata": {
    "collapsed": true
   },
   "outputs": [],
   "source": [
    "# Answer\n",
    "groupStella = [\"Aaron\", \"Freya\", \"Kaetlyn\", \"Tristan\"]"
   ]
  },
  {
   "cell_type": "markdown",
   "metadata": {},
   "source": [
    "### How about list as element of list?\n",
    "Can we make the list of every camper group and print?\n",
    "The result should look like "
   ]
  },
  {
   "cell_type": "markdown",
   "metadata": {},
   "source": [
    "[['Stella', 'Aaron', 'Freya', 'Kaetlyn', 'Tristan'], ['Vanessa', 'Eli', 'Clare', 'Kalli', 'Ruari'], ['Bella', 'Daniel', 'Logan', 'Tobias', 'Ricky', 'Garinn'], ['James', 'Cali', 'Preston', 'Tyler', 'Maya', 'Mary'], ['Yesheng', 'Isabel', 'Eva', 'Kennedy', 'Connie'], ['Syamala', 'Alex', 'Neveah', 'Josie', 'Seth', 'Kayne']]"
   ]
  },
  {
   "cell_type": "code",
   "execution_count": 9,
   "metadata": {
    "collapsed": true
   },
   "outputs": [],
   "source": [
    "# Answer\n",
    "DSSG = [[\"Stella\",\"Aaron\", \"Freya\", \"Kaetlyn\", \"Tristan\"],\n",
    "        [\"Vanessa\", \"Eli\", \"Clare\", \"Kalli\", \"Ruari\"],\n",
    "        [\"Bella\", \"Daniel\", \"Logan\", \"Tobias\", \"Ricky\", \"Garinn\"],\n",
    "        [\"James\",\"Cali\", \"Preston\", \"Tyler\", \"Maya\", \"Mary\"],\n",
    "        [\"Yesheng\", \"Isabel\", \"Eva\", \"Kennedy\", \"Connie\"],\n",
    "        [\"Syamala\", \"Alex\", \"Neveah\", \"Josie\", \"Seth\", \"Kayne\"]]"
   ]
  },
  {
   "cell_type": "markdown",
   "metadata": {},
   "source": [
    "How can we print Vanessa's group?"
   ]
  },
  {
   "cell_type": "code",
   "execution_count": 10,
   "metadata": {},
   "outputs": [
    {
     "name": "stdout",
     "output_type": "stream",
     "text": [
      "['Vanessa', 'Eli', 'Clare', 'Kalli', 'Ruari']\n"
     ]
    }
   ],
   "source": [
    "# Answer\n",
    "print (DSSG[1])"
   ]
  },
  {
   "cell_type": "markdown",
   "metadata": {},
   "source": [
    "## Part 2: Getting the Stuff Inside Lists "
   ]
  },
  {
   "cell_type": "code",
   "execution_count": 11,
   "metadata": {},
   "outputs": [
    {
     "name": "stdout",
     "output_type": "stream",
     "text": [
      "m\n"
     ]
    }
   ],
   "source": [
    "# Run this code\n",
    "print (time[0])"
   ]
  },
  {
   "cell_type": "markdown",
   "metadata": {},
   "source": [
    "### That's the Magic Number!\n",
    "1. Make the list (max 10 elements)\n",
    "2. Write a program that uses conditionals to decide if the the first element of the list is the number 3.\n",
    "3. If this is true, print out a message that says “That is the magic number!”"
   ]
  },
  {
   "cell_type": "code",
   "execution_count": 17,
   "metadata": {},
   "outputs": [
    {
     "name": "stdout",
     "output_type": "stream",
     "text": [
      "That is the magic number!\n"
     ]
    }
   ],
   "source": [
    "# Answer\n",
    "magicNums = [3, 'Your', 'name', 'is', 'how', 'to', 'get', 'away']\n",
    " # magicNums = ['Your', 'name', 'is', 'how', 'to', 'get', 'away']\n",
    "if magicNums[0] == 3:\n",
    "    print (\"That is the magic number!\")"
   ]
  },
  {
   "cell_type": "markdown",
   "metadata": {},
   "source": [
    "### Extension:\n",
    "### What if the list has wrong element?\n",
    "How can we fix this without redeclaring the list?\n"
   ]
  },
  {
   "cell_type": "code",
   "execution_count": 18,
   "metadata": {},
   "outputs": [
    {
     "name": "stdout",
     "output_type": "stream",
     "text": [
      "['S', 'T', 'E', 'L', 'L', 'A']\n"
     ]
    }
   ],
   "source": [
    "myName = [\"S\",\"T\",\"E\",\"L\",\"N\",\"A\"]\n",
    "# How can we change myname to be [\"S\",\"T\",\"E\",\"L\",\"L\",\"A\"]?\n",
    "# Do not change the code above!\n",
    "# Answer\n",
    "myName[4] = \"L\"\n",
    "print (myName)"
   ]
  },
  {
   "cell_type": "markdown",
   "metadata": {},
   "source": [
    "### What if we want to change our favorite numbers? \n",
    "Can we change the first element of favNums (favNums [0]) to 12?"
   ]
  },
  {
   "cell_type": "code",
   "execution_count": 19,
   "metadata": {},
   "outputs": [
    {
     "name": "stdout",
     "output_type": "stream",
     "text": [
      "[12, 7, 36, 5, 23]\n"
     ]
    }
   ],
   "source": [
    "# Answer\n",
    "favNums[0] = 12\n",
    "print (favNums)"
   ]
  },
  {
   "cell_type": "markdown",
   "metadata": {},
   "source": [
    "Can we increase the third element (favNums [2]) by 1?"
   ]
  },
  {
   "cell_type": "code",
   "execution_count": 20,
   "metadata": {},
   "outputs": [
    {
     "name": "stdout",
     "output_type": "stream",
     "text": [
      "[12, 7, 36, 5, 23]\n",
      "[12, 7, 37, 5, 23]\n"
     ]
    }
   ],
   "source": [
    "# Answer\n",
    "print (favNums)\n",
    "favNums[2] = favNums[2] + 1\n",
    "print (favNums)"
   ]
  },
  {
   "cell_type": "markdown",
   "metadata": {},
   "source": [
    "How can we get the difference between the first element and third element of favNums?"
   ]
  },
  {
   "cell_type": "code",
   "execution_count": 21,
   "metadata": {},
   "outputs": [
    {
     "name": "stdout",
     "output_type": "stream",
     "text": [
      "The difference between first element and third element of favNums is:  25\n"
     ]
    }
   ],
   "source": [
    "# Answer\n",
    "diff = favNums[2] - favNums[0]\n",
    "print (\"The difference between first element and third element of favNums is: \",diff)"
   ]
  },
  {
   "cell_type": "markdown",
   "metadata": {},
   "source": [
    "# Part 3: Hangman\n",
    "We are going to play Hangman with computer!\n",
    "Just to make sure, we cannot get multiple index, so it might be better if we set hangman word with a character appearing several times!\n",
    "For example, if hangman = ['G','R','I','N','N','E','L','L'] hangman.index('N') will only return 3."
   ]
  },
  {
   "cell_type": "code",
   "execution_count": 13,
   "metadata": {},
   "outputs": [
    {
     "data": {
      "text/html": [
       "<script>\n",
       "code_show=true; \n",
       "function code_toggle() {\n",
       "    if (code_show){\n",
       "        $('div.cell.code_cell.rendered.selected div.input').hide();\n",
       "    } else {\n",
       "        $('div.cell.code_cell.rendered.selected div.input').show();\n",
       "    }\n",
       "    code_show = !code_show\n",
       "} \n",
       "$( document ).ready(code_toggle);\n",
       "</script>\n",
       "To show/hide this cell's raw code input, click <a href=\"javascript:code_toggle()\">here</a>."
      ],
      "text/plain": [
       "<IPython.core.display.HTML object>"
      ]
     },
     "metadata": {},
     "output_type": "display_data"
    }
   ],
   "source": [
    "# Run this code\n",
    "# Do not edit this code except the last line!!!!\n",
    "from IPython.display import HTML\n",
    "from IPython.display import display\n",
    "\n",
    "# Taken from https://stackoverflow.com/questions/31517194/how-to-hide-one-specific-cell-input-or-output-in-ipython-notebook\n",
    "tag = HTML('''<script>\n",
    "code_show=true; \n",
    "function code_toggle() {\n",
    "    if (code_show){\n",
    "        $('div.cell.code_cell.rendered.selected div.input').hide();\n",
    "    } else {\n",
    "        $('div.cell.code_cell.rendered.selected div.input').show();\n",
    "    }\n",
    "    code_show = !code_show\n",
    "} \n",
    "$( document ).ready(code_toggle);\n",
    "</script>\n",
    "To show/hide this cell's raw code input, click <a href=\"javascript:code_toggle()\">here</a>.''')\n",
    "display(tag)\n",
    "\n",
    "# Edit the list hangman to play hangman\n",
    "hangman = ['J','U','P','Y','T','E','R']"
   ]
  },
  {
   "cell_type": "code",
   "execution_count": 14,
   "metadata": {},
   "outputs": [
    {
     "name": "stdout",
     "output_type": "stream",
     "text": [
      "7\n"
     ]
    }
   ],
   "source": [
    "# This code prints the length of the word hangman\n",
    "print (len(hangman))"
   ]
  },
  {
   "cell_type": "code",
   "execution_count": 15,
   "metadata": {},
   "outputs": [
    {
     "ename": "ValueError",
     "evalue": "'A' is not in list",
     "output_type": "error",
     "traceback": [
      "\u001b[0;31m---------------------------------------------------------------------------\u001b[0m",
      "\u001b[0;31mValueError\u001b[0m                                Traceback (most recent call last)",
      "\u001b[0;32m<ipython-input-15-c39b15bbf06f>\u001b[0m in \u001b[0;36m<module>\u001b[0;34m()\u001b[0m\n\u001b[1;32m      1\u001b[0m \u001b[0;31m# Start Guessing!\u001b[0m\u001b[0;34m\u001b[0m\u001b[0;34m\u001b[0m\u001b[0m\n\u001b[0;32m----> 2\u001b[0;31m \u001b[0mprint\u001b[0m \u001b[0;34m(\u001b[0m\u001b[0mhangman\u001b[0m\u001b[0;34m.\u001b[0m\u001b[0mindex\u001b[0m\u001b[0;34m(\u001b[0m\u001b[0;34m'A'\u001b[0m\u001b[0;34m)\u001b[0m\u001b[0;34m)\u001b[0m\u001b[0;34m\u001b[0m\u001b[0m\n\u001b[0m",
      "\u001b[0;31mValueError\u001b[0m: 'A' is not in list"
     ]
    }
   ],
   "source": [
    "# Start Guessing!\n",
    "print (hangman.index('A'))\n",
    "print (hangman.index('J'))"
   ]
  },
  {
   "cell_type": "markdown",
   "metadata": {},
   "source": [
    "# Part 4: MMMMM \n",
    "We want more than knowing elements in the list. \n",
    "\n",
    "### Who is Oldest or Youngest Person Around you?\n",
    "1. Ask ages from people near you!\n",
    "2. Make a list and Name the list “ages”\n",
    "3. Use max(ages) and min(ages)"
   ]
  },
  {
   "cell_type": "code",
   "execution_count": 22,
   "metadata": {
    "collapsed": true
   },
   "outputs": [],
   "source": [
    "# Make a list\n",
    "# Answer\n",
    "ages = [19, 20, 13, 20, 14, 15]"
   ]
  },
  {
   "cell_type": "code",
   "execution_count": 24,
   "metadata": {},
   "outputs": [
    {
     "name": "stdout",
     "output_type": "stream",
     "text": [
      "The oldest age is:  20\n",
      "The youngest age is:  13\n"
     ]
    }
   ],
   "source": [
    "# Find who is oldest\n",
    "oldest = max(ages)\n",
    "print (\"The oldest age is: \", oldest)\n",
    "# Find who is youngest\n",
    "youngest= min(ages)\n",
    "print (\"The youngest age is: \", youngest)"
   ]
  },
  {
   "cell_type": "markdown",
   "metadata": {},
   "source": [
    "#### How about mean of our ages list?\n",
    "*Remember* Mean = sum of numbers / numbers of numbers"
   ]
  },
  {
   "cell_type": "code",
   "execution_count": 25,
   "metadata": {},
   "outputs": [
    {
     "name": "stdout",
     "output_type": "stream",
     "text": [
      "The mean of ages around me is:  16.833333333333332\n"
     ]
    }
   ],
   "source": [
    "agesMean = sum(ages)/len(ages)\n",
    "print (\"The mean of ages around me is: \",agesMean)"
   ]
  },
  {
   "cell_type": "markdown",
   "metadata": {},
   "source": [
    "# Import Packages\n",
    "Computer Scientists are efficient. We don't want to calculate everything by ourselves. In statistics package, we have mean, median, mode functions. "
   ]
  },
  {
   "cell_type": "code",
   "execution_count": 27,
   "metadata": {
    "collapsed": true
   },
   "outputs": [],
   "source": [
    "# Run this code\n",
    "import statistics as st"
   ]
  },
  {
   "cell_type": "markdown",
   "metadata": {},
   "source": [
    "Try to find mean, median, mode of ages."
   ]
  },
  {
   "cell_type": "code",
   "execution_count": 28,
   "metadata": {},
   "outputs": [
    {
     "name": "stdout",
     "output_type": "stream",
     "text": [
      "mean: 16.833333333333332 median: 17.0 mode: 20\n"
     ]
    }
   ],
   "source": [
    "# Answer\n",
    "agesMean = st.mean(ages)\n",
    "agesMedian = st.median(ages)\n",
    "agesMode = st.mode(ages)\n",
    "\n",
    "print (\"mean:\", agesMean, \"median:\", agesMedian, \"mode:\", agesMode)"
   ]
  },
  {
   "cell_type": "markdown",
   "metadata": {},
   "source": [
    "### Extension\n",
    "### Average ACT Scores by State\n",
    "Iowa's Average English, Math, Reading, Science (Graduate Class 2017)\n",
    "\n",
    "| English | Math\t| Reading | Science\t|\n",
    "|:-------:|:-------:|:-------:|:-------:|\n",
    "| 21.2\t  | 21.3    | 22.6\t  |22.1     |\n",
    "How can we get Iowa's ACT composite score?"
   ]
  },
  {
   "cell_type": "code",
   "execution_count": 29,
   "metadata": {},
   "outputs": [
    {
     "name": "stdout",
     "output_type": "stream",
     "text": [
      "21.8\n"
     ]
    }
   ],
   "source": [
    "IowaACT = [21.2, 21.3, 22.6, 22.1]\n",
    "# Composite score = mean of scores from every section\n",
    "# Answer\n",
    "compositeIowa = st.mean(IowaACT)\n",
    "print (compositeIowa)"
   ]
  },
  {
   "cell_type": "markdown",
   "metadata": {},
   "source": [
    "What is median and mode for Iowa ACT scores?"
   ]
  },
  {
   "cell_type": "code",
   "execution_count": 30,
   "metadata": {},
   "outputs": [
    {
     "ename": "StatisticsError",
     "evalue": "no unique mode; found 4 equally common values",
     "output_type": "error",
     "traceback": [
      "\u001b[0;31m---------------------------------------------------------------------------\u001b[0m",
      "\u001b[0;31mStatisticsError\u001b[0m                           Traceback (most recent call last)",
      "\u001b[0;32m<ipython-input-30-1be651495665>\u001b[0m in \u001b[0;36m<module>\u001b[0;34m()\u001b[0m\n\u001b[1;32m      1\u001b[0m \u001b[0mmedianIowa\u001b[0m \u001b[0;34m=\u001b[0m \u001b[0mst\u001b[0m\u001b[0;34m.\u001b[0m\u001b[0mmedian\u001b[0m\u001b[0;34m(\u001b[0m\u001b[0mIowaACT\u001b[0m\u001b[0;34m)\u001b[0m\u001b[0;34m\u001b[0m\u001b[0m\n\u001b[0;32m----> 2\u001b[0;31m \u001b[0mmode\u001b[0m \u001b[0;34m=\u001b[0m \u001b[0mst\u001b[0m\u001b[0;34m.\u001b[0m\u001b[0mmode\u001b[0m\u001b[0;34m(\u001b[0m\u001b[0mIowaACT\u001b[0m\u001b[0;34m)\u001b[0m\u001b[0;34m\u001b[0m\u001b[0m\n\u001b[0m",
      "\u001b[0;32m/usr/lib/python3.5/statistics.py\u001b[0m in \u001b[0;36mmode\u001b[0;34m(data)\u001b[0m\n\u001b[1;32m    472\u001b[0m     \u001b[0;32melif\u001b[0m \u001b[0mtable\u001b[0m\u001b[0;34m:\u001b[0m\u001b[0;34m\u001b[0m\u001b[0m\n\u001b[1;32m    473\u001b[0m         raise StatisticsError(\n\u001b[0;32m--> 474\u001b[0;31m                 \u001b[0;34m'no unique mode; found %d equally common values'\u001b[0m \u001b[0;34m%\u001b[0m \u001b[0mlen\u001b[0m\u001b[0;34m(\u001b[0m\u001b[0mtable\u001b[0m\u001b[0;34m)\u001b[0m\u001b[0;34m\u001b[0m\u001b[0m\n\u001b[0m\u001b[1;32m    475\u001b[0m                 )\n\u001b[1;32m    476\u001b[0m     \u001b[0;32melse\u001b[0m\u001b[0;34m:\u001b[0m\u001b[0;34m\u001b[0m\u001b[0m\n",
      "\u001b[0;31mStatisticsError\u001b[0m: no unique mode; found 4 equally common values"
     ]
    }
   ],
   "source": [
    "# Answer\n",
    "medianIowa = st.median(IowaACT)\n",
    "# mode will cause error because there are no mode in the list\n",
    "# mode = st.mode(IowaACT)"
   ]
  },
  {
   "cell_type": "markdown",
   "metadata": {},
   "source": [
    "Can we name the score with the subject?"
   ]
  },
  {
   "cell_type": "code",
   "execution_count": 31,
   "metadata": {
    "collapsed": true
   },
   "outputs": [],
   "source": [
    "English = 21.2\n",
    "# Answer\n",
    "Math = 21.3\n",
    "Reading = 22.6\n",
    "Science = 22.1"
   ]
  },
  {
   "cell_type": "markdown",
   "metadata": {},
   "source": [
    "Can we store the variables in the list?"
   ]
  },
  {
   "cell_type": "code",
   "execution_count": 34,
   "metadata": {},
   "outputs": [
    {
     "name": "stdout",
     "output_type": "stream",
     "text": [
      "[21.2, 21.3, 22.6, 22.1]\n"
     ]
    }
   ],
   "source": [
    "# Answer\n",
    "IowaACT = [English, Math, Reading, Science]\n",
    "print (IowaACT)"
   ]
  },
  {
   "cell_type": "markdown",
   "metadata": {},
   "source": [
    "Which version is better to read?"
   ]
  },
  {
   "cell_type": "code",
   "execution_count": null,
   "metadata": {
    "collapsed": true
   },
   "outputs": [],
   "source": [
    "# Write Answer After \"#\"\n",
    "# \"#\" means your writing is comment, not code\n",
    "# Sample Answer\n",
    "# I like when I made variable because I could easily see which score was from which subject "
   ]
  },
  {
   "cell_type": "markdown",
   "metadata": {},
   "source": [
    "## Review Time\n",
    "\n"
   ]
  },
  {
   "cell_type": "markdown",
   "metadata": {},
   "source": [
    "1) How would you get the number of numbers in the list?"
   ]
  },
  {
   "cell_type": "code",
   "execution_count": 35,
   "metadata": {
    "collapsed": true
   },
   "outputs": [],
   "source": [
    "nums = [1, 10, -100, 60, 4, 29, -6, 5, 1000]"
   ]
  },
  {
   "cell_type": "code",
   "execution_count": 36,
   "metadata": {},
   "outputs": [
    {
     "data": {
      "text/plain": [
       "9"
      ]
     },
     "execution_count": 36,
     "metadata": {},
     "output_type": "execute_result"
    }
   ],
   "source": [
    "# Answer\n",
    "len(nums)"
   ]
  },
  {
   "cell_type": "markdown",
   "metadata": {},
   "source": [
    "2) How would get the index of the letter “e”?"
   ]
  },
  {
   "cell_type": "code",
   "execution_count": 38,
   "metadata": {
    "collapsed": true
   },
   "outputs": [],
   "source": [
    "hi = [\"co\",\"lle\",\"g\",\"e\"]"
   ]
  },
  {
   "cell_type": "code",
   "execution_count": 41,
   "metadata": {},
   "outputs": [
    {
     "data": {
      "text/plain": [
       "'e'"
      ]
     },
     "execution_count": 41,
     "metadata": {},
     "output_type": "execute_result"
    }
   ],
   "source": [
    "# Answer\n",
    "hi[3]\n",
    "hi[len(hi)-1]"
   ]
  },
  {
   "cell_type": "markdown",
   "metadata": {},
   "source": [
    "3) What would falsely.index(len(falsely) - 1) give you?"
   ]
  },
  {
   "cell_type": "code",
   "execution_count": 45,
   "metadata": {
    "collapsed": true
   },
   "outputs": [],
   "source": [
    "falsely = [False, \"H\", \"OO\", \"D\"]"
   ]
  },
  {
   "cell_type": "code",
   "execution_count": 46,
   "metadata": {},
   "outputs": [
    {
     "ename": "ValueError",
     "evalue": "3 is not in list",
     "output_type": "error",
     "traceback": [
      "\u001b[0;31m---------------------------------------------------------------------------\u001b[0m",
      "\u001b[0;31mValueError\u001b[0m                                Traceback (most recent call last)",
      "\u001b[0;32m<ipython-input-46-496dfa5e71d7>\u001b[0m in \u001b[0;36m<module>\u001b[0;34m()\u001b[0m\n\u001b[1;32m      1\u001b[0m \u001b[0;31m# Answer\u001b[0m\u001b[0;34m\u001b[0m\u001b[0;34m\u001b[0m\u001b[0m\n\u001b[0;32m----> 2\u001b[0;31m \u001b[0mfalsely\u001b[0m\u001b[0;34m.\u001b[0m\u001b[0mindex\u001b[0m\u001b[0;34m(\u001b[0m\u001b[0mlen\u001b[0m\u001b[0;34m(\u001b[0m\u001b[0mfalsely\u001b[0m\u001b[0;34m)\u001b[0m \u001b[0;34m-\u001b[0m \u001b[0;36m1\u001b[0m\u001b[0;34m)\u001b[0m\u001b[0;34m\u001b[0m\u001b[0m\n\u001b[0m",
      "\u001b[0;31mValueError\u001b[0m: 3 is not in list"
     ]
    }
   ],
   "source": [
    "# Answer = ValueError: 3 is not in list\n",
    "falsely.index(len(falsely) - 1) "
   ]
  },
  {
   "cell_type": "markdown",
   "metadata": {},
   "source": [
    "4) How would you access the letter “a” in yesterday?"
   ]
  },
  {
   "cell_type": "code",
   "execution_count": 48,
   "metadata": {
    "collapsed": true
   },
   "outputs": [],
   "source": [
    "yesterday = [\"m\",\"o\",\"n\",\"d\",\"a\",\"y\"]"
   ]
  },
  {
   "cell_type": "code",
   "execution_count": 49,
   "metadata": {},
   "outputs": [
    {
     "data": {
      "text/plain": [
       "'a'"
      ]
     },
     "execution_count": 49,
     "metadata": {},
     "output_type": "execute_result"
    }
   ],
   "source": [
    "# Answer\n",
    "yesterday[4]"
   ]
  },
  {
   "cell_type": "markdown",
   "metadata": {},
   "source": [
    "5) How would you get the maximum number in the list?"
   ]
  },
  {
   "cell_type": "code",
   "execution_count": 51,
   "metadata": {
    "collapsed": true
   },
   "outputs": [],
   "source": [
    "numbers = [1, 10, 50, -60, 4, 29, -6, 5, 44]"
   ]
  },
  {
   "cell_type": "code",
   "execution_count": 52,
   "metadata": {},
   "outputs": [
    {
     "data": {
      "text/plain": [
       "50"
      ]
     },
     "execution_count": 52,
     "metadata": {},
     "output_type": "execute_result"
    }
   ],
   "source": [
    "# Answer\n",
    "max(numbers)"
   ]
  },
  {
   "cell_type": "markdown",
   "metadata": {},
   "source": [
    "6) How can we print \"Syamala\" from the DSSG?"
   ]
  },
  {
   "cell_type": "code",
   "execution_count": null,
   "metadata": {
    "collapsed": true
   },
   "outputs": [],
   "source": [
    "DSSG = [[\"Stella\",\"Aaron\", \"Freya\", \"Kaetlyn\", \"Tristan\"],\n",
    "        [\"Vanessa\", \"Eli\", \"Clare\", \"Kalli\", \"Ruari\"],\n",
    "        [\"Bella\", \"Daniel\", \"Logan\", \"Tobias\", \"Ricky\", \"Garinn\"],\n",
    "        [\"James\",\"Cali\", \"Preston\", \"Tyler\", \"Maya\", \"Mary\"],\n",
    "        [\"Yesheng\", \"Isabel\", \"Eva\", \"Kennedy\", \"Connie\"],\n",
    "        [\"Syamala\", \"Alex\", \"Neveah\", \"Josie\", \"Seth\", \"Kayne\"]]"
   ]
  },
  {
   "cell_type": "code",
   "execution_count": 57,
   "metadata": {},
   "outputs": [
    {
     "name": "stdout",
     "output_type": "stream",
     "text": [
      "['Syamala', 'Alex', 'Neveah', 'Josie', 'Seth', 'Kayne']\n",
      "Syamala\n"
     ]
    }
   ],
   "source": [
    "# Answer\n",
    "print (DSSG[5])\n",
    "print ((DSSG[5])[0])"
   ]
  },
  {
   "cell_type": "markdown",
   "metadata": {},
   "source": [
    "7) How would you get the number of people is in James group including James? "
   ]
  },
  {
   "cell_type": "code",
   "execution_count": 58,
   "metadata": {},
   "outputs": [
    {
     "data": {
      "text/plain": [
       "6"
      ]
     },
     "execution_count": 58,
     "metadata": {},
     "output_type": "execute_result"
    }
   ],
   "source": [
    "# Answer\n",
    "len(DSSG[3])"
   ]
  },
  {
   "cell_type": "markdown",
   "metadata": {},
   "source": [
    "8) What would lst.index(max(integers)) give you?"
   ]
  },
  {
   "cell_type": "code",
   "execution_count": 59,
   "metadata": {
    "collapsed": true
   },
   "outputs": [],
   "source": [
    "lst = [\"Hello\", \"campers\", \"today\", \"is\", 10, 7, \"July\", \"Tuesday\", \"in\", \"Noyce\"]\n",
    "integers = [3, 2, 4, 10, 4, 2, -4]"
   ]
  },
  {
   "cell_type": "code",
   "execution_count": 60,
   "metadata": {},
   "outputs": [
    {
     "data": {
      "text/plain": [
       "4"
      ]
     },
     "execution_count": 60,
     "metadata": {},
     "output_type": "execute_result"
    }
   ],
   "source": [
    "# Answer = 4\n",
    "lst.index(max(integers))"
   ]
  },
  {
   "cell_type": "markdown",
   "metadata": {},
   "source": [
    "9) What would lst[max(integers)] give you?"
   ]
  },
  {
   "cell_type": "code",
   "execution_count": 61,
   "metadata": {},
   "outputs": [
    {
     "ename": "IndexError",
     "evalue": "list index out of range",
     "output_type": "error",
     "traceback": [
      "\u001b[0;31m---------------------------------------------------------------------------\u001b[0m",
      "\u001b[0;31mIndexError\u001b[0m                                Traceback (most recent call last)",
      "\u001b[0;32m<ipython-input-61-0c12cbbdef61>\u001b[0m in \u001b[0;36m<module>\u001b[0;34m()\u001b[0m\n\u001b[0;32m----> 1\u001b[0;31m \u001b[0mlst\u001b[0m\u001b[0;34m[\u001b[0m\u001b[0mmax\u001b[0m\u001b[0;34m(\u001b[0m\u001b[0mintegers\u001b[0m\u001b[0;34m)\u001b[0m\u001b[0;34m]\u001b[0m\u001b[0;34m\u001b[0m\u001b[0m\n\u001b[0m",
      "\u001b[0;31mIndexError\u001b[0m: list index out of range"
     ]
    }
   ],
   "source": [
    "# Answer = IndexError: list index out of range\n",
    "lst[max(integers)] "
   ]
  },
  {
   "cell_type": "markdown",
   "metadata": {},
   "source": [
    "# Citation\n",
    "ACT score statistics\n",
    "https://www.act.org/content/dam/act/unsecured/documents/cccr2017/ACT_2017-Average_Scores_by_State.pdf"
   ]
  }
 ],
 "metadata": {
  "kernelspec": {
   "display_name": "Python 3",
   "language": "python",
   "name": "python3"
  },
  "language_info": {
   "codemirror_mode": {
    "name": "ipython",
    "version": 3
   },
   "file_extension": ".py",
   "mimetype": "text/x-python",
   "name": "python",
   "nbconvert_exporter": "python",
   "pygments_lexer": "ipython3",
   "version": "3.5.2"
  }
 },
 "nbformat": 4,
 "nbformat_minor": 2
}
